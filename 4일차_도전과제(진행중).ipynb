{
  "cells": [
    {
      "cell_type": "markdown",
      "metadata": {
        "id": "view-in-github",
        "colab_type": "text"
      },
      "source": [
        "<a href=\"https://colab.research.google.com/github/BE12-OZ/Python-oz/blob/main/4%E1%84%8B%E1%85%B5%E1%86%AF%E1%84%8E%E1%85%A1_%E1%84%83%E1%85%A9%E1%84%8C%E1%85%A5%E1%86%AB%E1%84%80%E1%85%AA%E1%84%8C%E1%85%A6(%E1%84%8C%E1%85%B5%E1%86%AB%E1%84%92%E1%85%A2%E1%86%BC%E1%84%8C%E1%85%AE%E1%86%BC).ipynb\" target=\"_parent\"><img src=\"https://colab.research.google.com/assets/colab-badge.svg\" alt=\"Open In Colab\"/></a>"
      ]
    },
    {
      "cell_type": "markdown",
      "metadata": {
        "id": "_x08cAIClmpy"
      },
      "source": [
        "<span style=\"font-size:100%\">\n",
        "\n",
        "수업은 모두 열심히 들으셨나요?\n",
        "\n",
        "간혹 강의에서 언급되지 않은 내용이 문제로 나올 수 있습니다.<br>\n",
        "그럴땐 강의 내용 외 문제는 구글링을 통해 해결해주세요<br></span>\n",
        "<span style=\"font-size:80%\">\n",
        "(구글링 또한 개발자가 갖쳐야할 역량 중에 하나랍니다 😊)\n",
        "</span>\n",
        "\n",
        "---"
      ]
    },
    {
      "cell_type": "markdown",
      "metadata": {
        "id": "r8DOqae8lmp0"
      },
      "source": [
        "### Chapter14 : `Python if문을 이용해 조건을 만족 또는 만족하지 않는 상황을 이용해 프로그램의 흐름 제어를 해보자`"
      ]
    },
    {
      "cell_type": "markdown",
      "metadata": {
        "id": "DRE_zdB2lmp1"
      },
      "source": [
        "<span style=\"font-size:80%\">[문제1]<br><br></span>\n",
        "```다음 중 True로 취급되지 않는 것을 골라주세요```\n",
        "\n",
        "1. 1\n",
        "2. \"수강생\"\n",
        "3. None\n",
        "4. [\"양파\", \"옥수수\", \"배추\"]"
      ]
    },
    {
      "cell_type": "markdown",
      "metadata": {
        "id": "2IWPVVHxlmp1"
      },
      "source": [
        "<span style=\"color:red\">정답: 3번</span>"
      ]
    },
    {
      "cell_type": "markdown",
      "metadata": {
        "id": "dxtps75Rlmp2"
      },
      "source": []
    },
    {
      "cell_type": "markdown",
      "metadata": {
        "id": "27rRF86Jlmp2"
      },
      "source": [
        "----"
      ]
    },
    {
      "cell_type": "markdown",
      "metadata": {
        "id": "VvZ4t_tVlmp2"
      },
      "source": [
        "<span style=\"font-size:80%\">[문제2]<br><br></span>\n",
        "```아래 코드의 출력 결과를 입력해주세요```\n",
        "\n",
        "```if not ' ':```<br>\n",
        "&nbsp;```  print(True)```<br>\n",
        "\n",
        "```else:```<br>\n",
        "&nbsp;```  print(False)```<br>"
      ]
    },
    {
      "cell_type": "markdown",
      "metadata": {
        "id": "BrKNlYY0lmp3"
      },
      "source": [
        "<span style=\"color:red\">정답: ' ' 의 경우 빈 공간이기 때문에 False가 나온다.</span>"
      ]
    },
    {
      "cell_type": "markdown",
      "metadata": {
        "id": "3FT1SBm6lmp4"
      },
      "source": []
    },
    {
      "cell_type": "markdown",
      "metadata": {
        "id": "tTESlpDJlmp4"
      },
      "source": [
        "----"
      ]
    },
    {
      "cell_type": "markdown",
      "metadata": {
        "id": "qvnqz2SDlmp4"
      },
      "source": [
        "<span style=\"font-size:80%\">[문제3]<br><br></span>\n",
        "```if 조건문에 대한 설명으로 올바른 것을 골라주세요```\n",
        "\n",
        "1. if문은 조건을 만족하지 않을때 실행된다.\n",
        "2. else문은 조건문이 참일 때 실행된다.\n",
        "3. else는 단독으로 사용할 수 없다.\n",
        "4. else에서 실행되는 코드는 다음 줄에서 들여쓰기를 하지 않아야 한다.\n",
        "5. if는 항상 else가 있어여 한다."
      ]
    },
    {
      "cell_type": "markdown",
      "metadata": {
        "id": "nfzRxczllmp4"
      },
      "source": [
        "<span style=\"color:red\">답변</span>"
      ]
    },
    {
      "cell_type": "markdown",
      "metadata": {
        "id": "OmxLhDzolmp5"
      },
      "source": []
    },
    {
      "cell_type": "markdown",
      "metadata": {
        "id": "LnOarU-Ulmp5"
      },
      "source": [
        "----"
      ]
    },
    {
      "cell_type": "markdown",
      "metadata": {
        "id": "q1hvUIlWlmp5"
      },
      "source": [
        "<span style=\"font-size:80%\">[문제4]<br><br></span>\n",
        "```아래 코드의 출력으로 올바른 것을 골라주세요```\n",
        "\n",
        "```x = 5```\n",
        "\n",
        "```if x % 2 ==0:```<br>\n",
        "&nbsp;&nbsp;```print(\"짝수\")```\n",
        "\n",
        "```else:```<br>\n",
        "&nbsp;&nbsp;```print(\"홀수\")```<br>\n",
        "\n",
        "\n",
        "1. 짝수\n",
        "2. 1\n",
        "3. 2\n",
        "4. 홀수\n",
        "5. 아무것도 출력되지 않는다."
      ]
    },
    {
      "cell_type": "markdown",
      "metadata": {
        "id": "suz9Lghhlmp5"
      },
      "source": [
        "<span style=\"color:red\">답변</span>"
      ]
    },
    {
      "cell_type": "markdown",
      "metadata": {
        "id": "bmXeAoMXlmp5"
      },
      "source": []
    },
    {
      "cell_type": "markdown",
      "metadata": {
        "id": "JGC_7u9Hlmp5"
      },
      "source": [
        "----"
      ]
    },
    {
      "cell_type": "markdown",
      "metadata": {
        "id": "VNJb4Ztklmp5"
      },
      "source": [
        "<span style=\"font-size:80%\">[문제5]<br><br></span>\n",
        "```아래의 if 조건과 동일한 조건을 찾아주세요```\n",
        "\n",
        "```if 15 >= x and x > 3```\n",
        "\n",
        "1. x < 3 < 15\n",
        "2. 3 <= x < 15\n",
        "3. 3 <= x <= 15\n",
        "4. 15 >= x\n",
        "5. 3 < x <= 15"
      ]
    },
    {
      "cell_type": "markdown",
      "metadata": {
        "id": "b2ebA4UTlmp5"
      },
      "source": [
        "<span style=\"color:red\">답변</span>"
      ]
    },
    {
      "cell_type": "markdown",
      "metadata": {
        "id": "nNBU-vC2lmp5"
      },
      "source": []
    },
    {
      "cell_type": "markdown",
      "metadata": {
        "id": "yC7fY_ZNlmp5"
      },
      "source": [
        "----"
      ]
    },
    {
      "cell_type": "markdown",
      "metadata": {
        "id": "B4fiNsCilmp5"
      },
      "source": [
        "### Chapter15 : `Python의 for문을 이용해 반복되는 작업 코드 개선해보기`"
      ]
    },
    {
      "cell_type": "markdown",
      "metadata": {
        "id": "-lFNPpAclmp5"
      },
      "source": [
        "<span style=\"font-size:80%\">[문제1]<br><br></span>\n",
        "```다음 중 for문으로 10번 반복하는 방법으로 올바른 것을 모두 골라주세요```\n",
        "\n",
        "1. for i in range(10):\n",
        "2. for i in range(5, 16):\n",
        "3. for i in range(10, 0):\n",
        "4. for i in range(20, 40, 2):\n",
        "5. for i in range(1, 10, 1):"
      ]
    },
    {
      "cell_type": "markdown",
      "metadata": {
        "id": "tn3UGNM9lmp5"
      },
      "source": [
        "<span style=\"color:red\">답변</span>"
      ]
    },
    {
      "cell_type": "markdown",
      "metadata": {
        "id": "kfOYYES4lmp6"
      },
      "source": []
    },
    {
      "cell_type": "markdown",
      "metadata": {
        "id": "L_CVDqZElmp6"
      },
      "source": [
        "----"
      ]
    },
    {
      "cell_type": "markdown",
      "metadata": {
        "id": "LEjRHTqilmp6"
      },
      "source": [
        "<span style=\"font-size:80%\">[문제2]<br><br></span>\n",
        "```아래 코드에서 잘못된 부분에 대해서 설명해주세요```\n",
        "\n",
        "count = input()\n",
        "\n",
        "for i in range(count)<br>\n",
        "&emsp;&emsp;print('i의 값은', end=' ')<br>\n",
        "&emsp;&emsp;print(i)<br>"
      ]
    },
    {
      "cell_type": "markdown",
      "metadata": {
        "id": "GtAroMgLlmp6"
      },
      "source": [
        "<span style=\"color:red\">답변</span>"
      ]
    },
    {
      "cell_type": "markdown",
      "metadata": {
        "id": "KLgrxjfslmp6"
      },
      "source": []
    },
    {
      "cell_type": "markdown",
      "metadata": {
        "id": "FO7x6K9_lmp6"
      },
      "source": [
        "----"
      ]
    },
    {
      "cell_type": "markdown",
      "metadata": {
        "id": "vGX9k4Lnlmp6"
      },
      "source": [
        "<span style=\"font-size:80%\">[문제3]<br><br></span>\n",
        "```아래 코드를 실행 했을 때 결과물로 올바른 것을 골라주세요```\n",
        "\n",
        "for i in reversed(\"python\"):<br>\n",
        "&emsp;&emsp;print(i, end='.')<br>\n",
        "\n",
        "\n",
        "1. n.o.h.t.y.p.\n",
        "2. p.y.t.h.o.n.\n",
        "3. nothyp\n",
        "4. python"
      ]
    },
    {
      "cell_type": "markdown",
      "metadata": {
        "id": "jyauZ_gflmp6"
      },
      "source": [
        "<span style=\"color:red\">답변</span>"
      ]
    },
    {
      "cell_type": "markdown",
      "metadata": {
        "id": "Wu1iz42Olmp6"
      },
      "source": []
    },
    {
      "cell_type": "markdown",
      "metadata": {
        "id": "M0A-ADU-lmp6"
      },
      "source": [
        "----"
      ]
    },
    {
      "cell_type": "markdown",
      "metadata": {
        "id": "6_IkgkjTlmp6"
      },
      "source": [
        "<span style=\"font-size:80%\">[문제4]<br><br></span>\n",
        "```리스트에 저장된 데이터를 아래와 같이 출력하세요```\n",
        "\n",
        "오피스텔 = [ [201, 202], [301, 302], [401, 402] ]\n",
        "\n",
        "201호<br>\n",
        "202호<br>\n",
        "`----`\n",
        "\n",
        "301호<br>\n",
        "302호<br>\n",
        "`----`\n",
        "\n",
        "401호<br>\n",
        "402호<br>\n",
        "`----`"
      ]
    },
    {
      "cell_type": "markdown",
      "metadata": {
        "id": "Niqg1sw3lmp7"
      },
      "source": [
        "<span style=\"color:red\">답변</span>"
      ]
    },
    {
      "cell_type": "markdown",
      "metadata": {
        "id": "b6NfMocGlmp7"
      },
      "source": []
    },
    {
      "cell_type": "markdown",
      "metadata": {
        "id": "W-i0Gyy6lmp7"
      },
      "source": [
        "----"
      ]
    },
    {
      "cell_type": "markdown",
      "metadata": {
        "id": "ZikD-NLglmqB"
      },
      "source": [
        "<span style=\"font-size:80%\">[문제5]<br><br></span>\n",
        "```ohlc 리스트에는 시가(open), 고가 (high), 저가 (low) , 종가(close)가 날짜별로 저장돼 있다. 종가가 150원보다 큰 경우에만 종가를 출력하는 코드를 작성해주세요```\n",
        "\n",
        "ohlc = [[\"open\", \"high\", \"low\", \"close\"], [100, 110, 70, 100], [200, 210, 180, 190], [300, 310, 300, 310]]"
      ]
    },
    {
      "cell_type": "markdown",
      "metadata": {
        "id": "qIETw96MlmqB"
      },
      "source": [
        "<span style=\"color:red\">답변</span>"
      ]
    },
    {
      "cell_type": "markdown",
      "metadata": {
        "id": "XLNjMTNklmqB"
      },
      "source": []
    },
    {
      "cell_type": "markdown",
      "metadata": {
        "id": "YVH_fmEjlmqB"
      },
      "source": [
        "### Chapter16 : `Python의 While문을 활용해 반복되는 코드를 개선해 보자`"
      ]
    },
    {
      "cell_type": "markdown",
      "metadata": {
        "id": "Ki5Po45LlmqB"
      },
      "source": [
        "<span style=\"font-size:80%\">[문제1]<br><br></span>\n",
        "아래 코드의 올바른 실행 결과를 골라주세요\n",
        "```\n",
        "i = 10\n",
        "\n",
        "while i < 19:\n",
        "    print(i, end=' ')\n",
        "    i += 2\n",
        "```\n",
        "\n",
        "1. 10, 11, 12, 13, 14, 15, 16, 17, 18, 19\n",
        "2. 10 11 12 13 14 15 16 17 18\n",
        "3. 10 12 14 16 18 19\n",
        "4. 10 12 14 16 18\n",
        "5. 10 12 14 16"
      ]
    },
    {
      "cell_type": "markdown",
      "metadata": {
        "id": "V3hKBxy6lmqB"
      },
      "source": [
        "<span style=\"color:red\">답변</span>"
      ]
    },
    {
      "cell_type": "markdown",
      "metadata": {
        "id": "ll4aPGewlmqB"
      },
      "source": []
    },
    {
      "cell_type": "markdown",
      "metadata": {
        "id": "kBmcF-qzlmqB"
      },
      "source": [
        "----"
      ]
    },
    {
      "cell_type": "markdown",
      "metadata": {
        "id": "9Rffq7AglmqB"
      },
      "source": [
        "<span style=\"font-size:80%\">[문제2]<br><br></span>\n",
        "다음 중 while 반복문에 대한 설명으로 잘못된 것을 모두 골라주세요\n",
        "\n",
        "1. while 반복문에는 조건식 또는 값을 지정하면 된다.\n",
        "2. while 반복문은 조건식의 결과가 True이면 반복을 끝낸다.\n",
        "3. while 반복문은 반복 횟수가 정해져 있을 때만 사용할 수 있다.\n",
        "4. while 반복문의 다음 줄은 반드시 들여쓰기를 해야 한다.\n",
        "5. while 반복문의 조건식에 True를 지정하면 무한 루프가 된다."
      ]
    },
    {
      "cell_type": "markdown",
      "metadata": {
        "id": "D9rv3RY-lmqB"
      },
      "source": [
        "<span style=\"color:red\">답변</span>"
      ]
    },
    {
      "cell_type": "markdown",
      "metadata": {
        "id": "Mpv397fglmqB"
      },
      "source": []
    },
    {
      "cell_type": "markdown",
      "metadata": {
        "id": "JYdOE4jylmqB"
      },
      "source": [
        "----"
      ]
    },
    {
      "cell_type": "markdown",
      "metadata": {
        "id": "3RQ_MaZJlmqB"
      },
      "source": [
        "<span style=\"font-size:80%\">[문제3]<br><br></span>\n",
        "while문을 사용하여, 100 이상의 자연수 중 가장 작은 23의 배수를 츨력하는 코드를 작성해주세요"
      ]
    },
    {
      "cell_type": "markdown",
      "metadata": {
        "id": "dmQ9X1XclmqB"
      },
      "source": [
        "<span style=\"color:red\">답변</span>"
      ]
    },
    {
      "cell_type": "markdown",
      "metadata": {
        "id": "d3vtH6jglmqC"
      },
      "source": []
    },
    {
      "cell_type": "markdown",
      "metadata": {
        "id": "0kfdq6m_lmqC"
      },
      "source": [
        "----"
      ]
    }
  ],
  "metadata": {
    "language_info": {
      "name": "python"
    },
    "colab": {
      "provenance": [],
      "include_colab_link": true
    }
  },
  "nbformat": 4,
  "nbformat_minor": 0
}