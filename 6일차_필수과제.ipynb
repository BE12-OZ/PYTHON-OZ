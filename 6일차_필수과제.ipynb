{
  "cells": [
    {
      "cell_type": "markdown",
      "metadata": {
        "id": "HjNksOKHcsxk"
      },
      "source": [
        "안녕하세요. 수강생 여러분~! Chapter21 ~ 32 수업은 잘 들으셨나요?\n",
        "\n",
        "Chapter21 ~ 32의 수업 내용을 바탕으로 아래 문제를 풀어주시면 됩니다.\n",
        "\n",
        "\n",
        "<br>\n",
        "\n",
        "\n",
        "[**답변 입력 방법**]\n",
        "\n",
        "문제 아래에 있는 코드 입력창에 정답코드를 작성하신 후  __▷ 버튼을 클릭해 코드를 실행__ 해보세요<br>"
      ]
    },
    {
      "cell_type": "markdown",
      "metadata": {
        "id": "jF2RJYijcsxm"
      },
      "source": [
        "---"
      ]
    },
    {
      "cell_type": "markdown",
      "metadata": {
        "id": "me7sP8Gecsxm"
      },
      "source": [
        "[문제 1]\n",
        "사용자로부터 이름과 나이를 입력 받아, \"안녕하세요, [이름]님! 당신은 [나이]살입니다.\"라고 출력하는 함수 greet_user를 작성하세요."
      ]
    },
    {
      "cell_type": "code",
      "execution_count": null,
      "metadata": {
        "id": "RDzfttAWcsxm",
        "outputId": "c2683556-301e-46a6-943a-daaf3b78b4cb"
      },
      "outputs": [
        {
          "name": "stdout",
          "output_type": "stream",
          "text": [
            "안녕하세요. 전광일님, 34세 입니다.\n"
          ]
        }
      ],
      "source": [
        "def great_user():\n",
        "    name = input(\"이름을 입력하세요.\")\n",
        "    age = input(\"나이를 입력하세요.\")\n",
        "    print(f\"안녕하세요. {name}님, {age}세 입니다.\")\n",
        "\n",
        "great_user()"
      ]
    },
    {
      "cell_type": "markdown",
      "metadata": {
        "id": "nvEEU6mxcsxn"
      },
      "source": [
        "---"
      ]
    },
    {
      "cell_type": "markdown",
      "metadata": {
        "id": "NAMpwGLecsxn"
      },
      "source": [
        "[문제 2] 여러 숫자를 입력받아 그 합계를 반환하는 함수 sum_numbers를 작성하세요. 이 때, 가변 매개변수를 사용하세요."
      ]
    },
    {
      "cell_type": "code",
      "execution_count": null,
      "metadata": {
        "id": "w9QF1cGmcsxn",
        "outputId": "66d39d06-b683-47cb-8741-862e50495e3e"
      },
      "outputs": [
        {
          "name": "stdout",
          "output_type": "stream",
          "text": [
            "15\n"
          ]
        }
      ],
      "source": [
        "def sum_numbers(*numbers):\n",
        "    return sum(numbers)\n",
        "\n",
        "print(sum_numbers(1, 2, 3, 4, 5))"
      ]
    },
    {
      "cell_type": "markdown",
      "metadata": {
        "id": "ijqUW1cgcsxo"
      },
      "source": [
        "---"
      ]
    },
    {
      "cell_type": "markdown",
      "metadata": {
        "id": "3Qe4OPGscsxo"
      },
      "source": [
        "[문제 3] 사용자의 이름을 출력하는 함수 print_name을 작성하세요. 만약 이름이 주어지지 않았다면, 기본값으로 \"익명\"을 사용하세요."
      ]
    },
    {
      "cell_type": "code",
      "execution_count": null,
      "metadata": {
        "id": "Nxy4ySB5csxo",
        "outputId": "279e55be-06ad-419e-9a14-586494341b50"
      },
      "outputs": [
        {
          "name": "stdout",
          "output_type": "stream",
          "text": [
            "이름: 광일\n",
            "이름: 익명\n"
          ]
        }
      ],
      "source": [
        "def print_name(name=\"익명\"):\n",
        "    print(f\"이름: {name}\")\n",
        "\n",
        "print_name(\"광일\")\n",
        "print_name()"
      ]
    },
    {
      "cell_type": "markdown",
      "metadata": {
        "id": "a4m-0jaBcsxo"
      },
      "source": [
        "---"
      ]
    },
    {
      "cell_type": "markdown",
      "metadata": {
        "id": "ILTz3zD-csxo"
      },
      "source": [
        "[문제 4] 사용자의 이름, 나이, 성별을 출력하는 함수 print_info를 작성하세요. 이 때, 모든 매개변수는 키워드 매개변수로만 받도록 하세요."
      ]
    },
    {
      "cell_type": "code",
      "execution_count": null,
      "metadata": {
        "id": "6YTgbRbtcsxo",
        "outputId": "770d9fb4-3234-4e0c-8669-d2d9bec33d98"
      },
      "outputs": [
        {
          "name": "stdout",
          "output_type": "stream",
          "text": [
            "이름: 전광일\n",
            "나이: 34세\n",
            "성별: 남성\n"
          ]
        }
      ],
      "source": [
        "def print_info(*, name, age, gender):\n",
        "    print(f\"이름: {name}\")\n",
        "    print(f\"나이: {age}\")\n",
        "    print(f\"성별: {gender}\")\n",
        "\n",
        "print_info(name=\"전광일\", age=\"34세\", gender=\"남성\")"
      ]
    },
    {
      "cell_type": "markdown",
      "metadata": {
        "id": "cDHDZ7R7csxo"
      },
      "source": [
        "---"
      ]
    },
    {
      "cell_type": "markdown",
      "metadata": {
        "id": "VeLyGExbcsxo"
      },
      "source": [
        "[문제 5] 두 개의 정수를 받아 합을 반환하는 함수 add를 작성하세요. 매개변수와 반환값에 타입 어노테이션을 추가하세요."
      ]
    },
    {
      "cell_type": "code",
      "execution_count": null,
      "metadata": {
        "id": "lzCul_QTcsxp",
        "outputId": "b40986cc-8dbc-43c3-bc7b-b1cd40df8d87"
      },
      "outputs": [
        {
          "name": "stdout",
          "output_type": "stream",
          "text": [
            "10\n"
          ]
        }
      ],
      "source": [
        "def add(a: int, b: int) -> int:\n",
        "    return a + b\n",
        "\n",
        "print(add(4,6))"
      ]
    },
    {
      "cell_type": "markdown",
      "metadata": {
        "id": "qFuNIIi6csxp"
      },
      "source": [
        "---"
      ]
    },
    {
      "cell_type": "markdown",
      "metadata": {
        "id": "-3BqIeaacsxp"
      },
      "source": [
        "[문제 6] 0부터 시작하여 n까지의 숫자 중에서 홀수만 생성하는 제너레이터 odd_numbers를 작성하세요."
      ]
    },
    {
      "cell_type": "code",
      "execution_count": null,
      "metadata": {
        "id": "aLvpNEVHcsxp",
        "outputId": "a14849da-e28c-4f49-9ce5-0ece4093ecb8"
      },
      "outputs": [
        {
          "name": "stdout",
          "output_type": "stream",
          "text": [
            "1\n",
            "3\n",
            "5\n",
            "7\n",
            "9\n"
          ]
        }
      ],
      "source": [
        "def odd_numbers(n):\n",
        "    for i in range(n):\n",
        "        if i % 2 != 0:\n",
        "            yield i\n",
        "\n",
        "for num in odd_numbers(10):\n",
        "    print(num)"
      ]
    },
    {
      "cell_type": "markdown",
      "metadata": {
        "id": "HxaAGus4csxp"
      },
      "source": [
        "---"
      ]
    },
    {
      "cell_type": "markdown",
      "metadata": {
        "id": "WPpNkOvlcsxp"
      },
      "source": [
        "[문제 7] 두 숫자를 더하는 람다 함수를 작성하고, 이를 변수에 할당한 후 사용하세요."
      ]
    },
    {
      "cell_type": "code",
      "execution_count": null,
      "metadata": {
        "id": "5DpdtDSycsxp",
        "outputId": "ac8308bc-b227-41e2-8182-6cf23d5af97a"
      },
      "outputs": [
        {
          "name": "stdout",
          "output_type": "stream",
          "text": [
            "13\n"
          ]
        }
      ],
      "source": [
        "add = lambda x, y: x + y\n",
        "\n",
        "print(add(8,5))"
      ]
    },
    {
      "cell_type": "markdown",
      "metadata": {
        "id": "wSLB5DNzcsxp"
      },
      "source": [
        "---"
      ]
    },
    {
      "cell_type": "markdown",
      "metadata": {
        "id": "6mBJqYL1csxp"
      },
      "source": [
        "[문제 8] 사용자로부터 3개의 숫자를 입력받아, 이를 튜플로 만든 후 최소값과 최대값을 출력하는 함수 min_max를 작성하세요."
      ]
    },
    {
      "cell_type": "code",
      "execution_count": null,
      "metadata": {
        "id": "AiS6RF-rcsxp",
        "outputId": "af77a87e-d10e-4cd8-ea52-75589ea168be"
      },
      "outputs": [
        {
          "name": "stdout",
          "output_type": "stream",
          "text": [
            "최소값: 7 최대값: 56\n"
          ]
        }
      ],
      "source": [
        "def min_max(*numbers):\n",
        "    numbers_tuple = tuple(numbers)\n",
        "    print(\"최소값:\", min(numbers_tuple), \"최대값:\", max(numbers_tuple))\n",
        "\n",
        "min_max(13, 56, 7)"
      ]
    },
    {
      "cell_type": "markdown",
      "metadata": {
        "id": "_mDGEJUzcsxp"
      },
      "source": [
        "---"
      ]
    },
    {
      "cell_type": "markdown",
      "metadata": {
        "id": "kR3vfh91csxp"
      },
      "source": [
        "[문제 9] 주어진 숫자가 짝수인지 확인하는 함수 is_even을 작성하세요. 짝수라면 True를, 아니라면 False를 반환하세요. 함수 내에서 조기 리턴을 활용하세요."
      ]
    },
    {
      "cell_type": "code",
      "execution_count": null,
      "metadata": {
        "id": "gbBqTD_7csxp",
        "outputId": "7e93db79-3db6-4668-c0ee-6bfa4b883af6"
      },
      "outputs": [
        {
          "name": "stdout",
          "output_type": "stream",
          "text": [
            "True\n",
            "False\n"
          ]
        }
      ],
      "source": [
        "def is_even(number):\n",
        "    return number % 2 == 0\n",
        "\n",
        "print(is_even(14))\n",
        "print(is_even(9))"
      ]
    },
    {
      "cell_type": "markdown",
      "metadata": {
        "id": "IT2Qujghcsxp"
      },
      "source": [
        "---"
      ]
    },
    {
      "cell_type": "markdown",
      "metadata": {
        "id": "hc3MPLLkcsxp"
      },
      "source": [
        "[문제 10] 팩토리얼을 계산하는 재귀 함수 factorial을 작성하세요."
      ]
    },
    {
      "cell_type": "code",
      "execution_count": null,
      "metadata": {
        "id": "Fwwywbq7csxp",
        "outputId": "f58431f3-95c3-4234-8cac-7038532e09b8"
      },
      "outputs": [
        {
          "name": "stdout",
          "output_type": "stream",
          "text": [
            "362880\n"
          ]
        }
      ],
      "source": [
        "def factorial(n):\n",
        "    if n == 0:\n",
        "        return 1\n",
        "    else:\n",
        "        return n * factorial(n-1)\n",
        "\n",
        "print(factorial(9))"
      ]
    },
    {
      "cell_type": "markdown",
      "metadata": {
        "id": "75hh0Zalcsxp"
      },
      "source": [
        "---"
      ]
    },
    {
      "cell_type": "markdown",
      "metadata": {
        "id": "_pabh4MUcsxp"
      },
      "source": [
        "[문제 11] 문자열 리스트를 받아, 각 문자열의 길이를 출력하는 함수 print_lengths를 작성하세요."
      ]
    },
    {
      "cell_type": "code",
      "execution_count": null,
      "metadata": {
        "id": "rYyqVhsGcsxp",
        "outputId": "128941da-35b0-4306-bfbe-1f7e1144cf1f"
      },
      "outputs": [
        {
          "name": "stdout",
          "output_type": "stream",
          "text": [
            "2\n",
            "3\n",
            "4\n"
          ]
        }
      ],
      "source": [
        "def print_lengths(strings):\n",
        "    for string in strings:\n",
        "        print(len(string))\n",
        "\n",
        "print_lengths([\"안녕\", \"반가워\", \"파이썬아\"])"
      ]
    },
    {
      "cell_type": "markdown",
      "metadata": {
        "id": "4IcLD3shcsxp"
      },
      "source": [
        "---"
      ]
    },
    {
      "cell_type": "markdown",
      "metadata": {
        "id": "FygjM5Rlcsxq"
      },
      "source": [
        "[문제 12] 두 문자열을 받아서 긴 문자열을 반환하는 함수 longer_string을 작성하세요. 만약 두 문자열의 길이가 같다면, 첫 번째 문자열을 반환하세요."
      ]
    },
    {
      "cell_type": "code",
      "execution_count": null,
      "metadata": {
        "id": "6Yk4S6NGcsxq",
        "outputId": "8f26901e-ab42-484e-9251-73954ce0d058"
      },
      "outputs": [
        {
          "name": "stdout",
          "output_type": "stream",
          "text": [
            "샌드위치\n"
          ]
        }
      ],
      "source": [
        "def longer_string(str1, str2):\n",
        "    if len(str1) >= len(str2):\n",
        "        return str1\n",
        "    else:\n",
        "        return str2\n",
        "\n",
        "print(longer_string(\"샌드위치\", \"피자\"))"
      ]
    }
  ],
  "metadata": {
    "kernelspec": {
      "display_name": "Python 3",
      "language": "python",
      "name": "python3"
    },
    "language_info": {
      "codemirror_mode": {
        "name": "ipython",
        "version": 3
      },
      "file_extension": ".py",
      "mimetype": "text/x-python",
      "name": "python",
      "nbconvert_exporter": "python",
      "pygments_lexer": "ipython3",
      "version": "3.13.3"
    },
    "colab": {
      "provenance": []
    }
  },
  "nbformat": 4,
  "nbformat_minor": 0
}