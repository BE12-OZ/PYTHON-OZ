{
  "cells": [
    {
      "cell_type": "markdown",
      "metadata": {
        "id": "pt0cFBNCgPZc"
      },
      "source": [
        "<span style=\"font-size:100%\">\n",
        "\n",
        "수업은 모두 열심히 들으셨나요?\n",
        "\n",
        "간혹 강의에서 언급되지 않은 내용이 문제로 나올 수 있습니다.<br>\n",
        "그럴땐 강의 내용 외 문제는 구글링을 통해 해결해주세요<br></span>\n",
        "<span style=\"font-size:80%\">\n",
        "(구글링 또한 개발자가 갖쳐야할 역량 중에 하나랍니다 😊)\n",
        "</span>\n",
        "\n",
        "---"
      ]
    },
    {
      "cell_type": "markdown",
      "metadata": {
        "id": "5zkgR32QgPZf"
      },
      "source": [
        "### Chapter05 : `Python 변수에 대한 개념 복습하기`"
      ]
    },
    {
      "cell_type": "markdown",
      "metadata": {
        "id": "2fLxjFkqgPZf"
      },
      "source": [
        "<span style=\"font-size:80%\">[문제1]<br><br></span>\n",
        "```Python으로 변수를 생성하는 방법으로 올바른 것을 고르세요```\n",
        "\n",
        "1. number == 20\n",
        "2. 100 == number\n",
        "3. number(7)\n",
        "4. number = 7"
      ]
    },
    {
      "cell_type": "markdown",
      "metadata": {
        "id": "iv_sdMO1gPZf"
      },
      "source": [
        "<span style=\"color:red\">정답: 4번</span>"
      ]
    },
    {
      "cell_type": "markdown",
      "metadata": {
        "id": "dsnRqX01gPZg"
      },
      "source": [
        "----"
      ]
    },
    {
      "cell_type": "markdown",
      "metadata": {
        "id": "CK2iE2gAgPZg"
      },
      "source": [
        "<span style=\"font-size:80%\">[문제2]<br><br></span>\n",
        "```다음 중 올바르지 않은 것을 골라주세요```\n",
        "\n",
        "이름 = \"김오즈\"<br>\n",
        "나이 = 14<br>\n",
        "소속 = \"마법중\"<br>\n",
        "등급 = 3<br>\n",
        "\n",
        "1. 이름 + 소속\n",
        "2. 나이 + 등급\n",
        "3. 소속 + 등급"
      ]
    },
    {
      "cell_type": "markdown",
      "metadata": {
        "id": "2kmkWT9ygPZg"
      },
      "source": [
        "<span style=\"color:red\">정답: 3번</span>"
      ]
    },
    {
      "cell_type": "markdown",
      "metadata": {
        "id": "F2hrWUy6gPZg"
      },
      "source": []
    },
    {
      "cell_type": "markdown",
      "metadata": {
        "id": "mcrl3CG6gPZg"
      },
      "source": [
        "----"
      ]
    },
    {
      "cell_type": "markdown",
      "metadata": {
        "id": "aEnKVfejgPZg"
      },
      "source": [
        "<span style=\"font-size:80%\">[문제3]<br><br></span>\n",
        "```아래 변수의 type으로 올바른것을 골라주세요```\n",
        "\n",
        "퀴즈 = \"스페인에서 카리나를 보고 하는 말은?\"<br>\n",
        "type(퀴즈)"
      ]
    },
    {
      "cell_type": "markdown",
      "metadata": {
        "id": "DAkYxXjLgPZh"
      },
      "source": [
        "<span style=\"color:red\">정답: class str</span>"
      ]
    },
    {
      "cell_type": "markdown",
      "metadata": {
        "id": "TodsNFsjgPZh"
      },
      "source": []
    },
    {
      "cell_type": "markdown",
      "metadata": {
        "id": "TlgWzN3FgPZh"
      },
      "source": [
        "----"
      ]
    },
    {
      "cell_type": "markdown",
      "metadata": {
        "id": "wDFyJT7OgPZh"
      },
      "source": [
        "<span style=\"font-size:80%\">[문제4]<br><br></span>\n",
        "```다음 중 변수 이름으로 사용할 수 없는 것을 모두 골라주세요```\n",
        "\n",
        "1. 78abc\n",
        "2. ABC\n",
        "3. _ABC\n",
        "4. _hello%2\n",
        "5. for"
      ]
    },
    {
      "cell_type": "markdown",
      "metadata": {
        "id": "GPBd3oYlgPZh"
      },
      "source": [
        "<span style=\"color:red\">정답: 1, 4, 5번</span>"
      ]
    },
    {
      "cell_type": "markdown",
      "metadata": {
        "id": "BNMQqQaUgPZh"
      },
      "source": []
    },
    {
      "cell_type": "markdown",
      "metadata": {
        "id": "ShIl39_2gPZh"
      },
      "source": [
        "----"
      ]
    },
    {
      "cell_type": "markdown",
      "metadata": {
        "id": "47TwPKdDgPZh"
      },
      "source": [
        "<span style=\"font-size:80%\">[문제5]<br><br></span>\n",
        "```다음 중 변수와 연산자의 사용 방법으로 올바르지 않은 것을 모두 골라주세요```\n",
        "\n",
        "x = 3\n",
        "y = 7\n",
        "\n",
        "1. x = x + y\n",
        "2. x // 2\n",
        "3. z >< x\n",
        "4. y += x\n",
        "5. ++x"
      ]
    },
    {
      "cell_type": "markdown",
      "metadata": {
        "id": "DUk2_jaDgPZh"
      },
      "source": [
        "<span style=\"color:red\">정답: 3, 5번</span>"
      ]
    },
    {
      "cell_type": "markdown",
      "metadata": {
        "id": "Jtcef2uRgPZh"
      },
      "source": []
    },
    {
      "cell_type": "markdown",
      "metadata": {
        "id": "MRI8QfQVgPZh"
      },
      "source": [
        "----"
      ]
    },
    {
      "cell_type": "markdown",
      "metadata": {
        "id": "SPHpMj88gPZh"
      },
      "source": [
        "### Chapter06 : `Python 자료형인 int와 float 개념 복습하기`"
      ]
    },
    {
      "cell_type": "markdown",
      "metadata": {
        "id": "wLjgXC-lgPZh"
      },
      "source": [
        "<span style=\"font-size:80%\">[문제1]<br><br></span>\n",
        "```실수를 정수로 만드는 식으로 올바른 것을 고르세요```\n",
        "\n",
        "1. str(3.5)\n",
        "2. int(3.5)\n",
        "3. float(3.5)"
      ]
    },
    {
      "cell_type": "markdown",
      "metadata": {
        "id": "GGLfDy6NgPZi"
      },
      "source": [
        "<span style=\"color:red\">정답: 2번</span>"
      ]
    },
    {
      "cell_type": "markdown",
      "metadata": {
        "id": "iAwgtJmOgPZi"
      },
      "source": []
    },
    {
      "cell_type": "markdown",
      "metadata": {
        "id": "R-fi03x6gPZi"
      },
      "source": [
        "----"
      ]
    },
    {
      "cell_type": "markdown",
      "metadata": {
        "id": "sob74_xSgPZi"
      },
      "source": [
        "<span style=\"font-size:80%\">[문제2]<br><br></span>\n",
        "```실수 3.5의 type과 동일한 것을 고르세요```\n",
        "\n",
        "1. float(17//3)\n",
        "2. int(10)-9\n",
        "3. float11/2\n",
        "4. float(10)-2"
      ]
    },
    {
      "cell_type": "markdown",
      "metadata": {
        "id": "-V-qGgKngPZi"
      },
      "source": [
        "<span style=\"color:red\">정답: 1, 3, 4번....? float...???</span>"
      ]
    },
    {
      "cell_type": "markdown",
      "metadata": {
        "id": "TywYnZM_gPZi"
      },
      "source": []
    },
    {
      "cell_type": "markdown",
      "metadata": {
        "id": "Z4Dg7u3NgPZi"
      },
      "source": [
        "----"
      ]
    },
    {
      "cell_type": "markdown",
      "metadata": {
        "id": "UFKewq_PgPZi"
      },
      "source": []
    },
    {
      "cell_type": "markdown",
      "metadata": {
        "id": "C9B8kWbbgPZi"
      },
      "source": [
        "<span style=\"font-size:80%\">[문제3]<br><br></span>\n",
        "```type(3.0 + 7.0)의 결과로 올바른 것을 고르세요```\n",
        "\n",
        "1. 10\n",
        "2. 10.0\n",
        "3. int\n",
        "4. float"
      ]
    },
    {
      "cell_type": "markdown",
      "metadata": {
        "id": "RhYiQAoPgPZi"
      },
      "source": [
        "<span style=\"color:red\">정답: 2번</span>"
      ]
    },
    {
      "cell_type": "markdown",
      "metadata": {
        "id": "iv7X2WxigPZi"
      },
      "source": []
    },
    {
      "cell_type": "markdown",
      "metadata": {
        "id": "vVGUPv6qgPZi"
      },
      "source": [
        "----"
      ]
    },
    {
      "cell_type": "markdown",
      "metadata": {
        "id": "jiEz9MvpgPZi"
      },
      "source": [
        "<span style=\"font-size:80%\">[문제4]<br><br></span>\n",
        "```float(5)의 결과로 올바른 것을 고르세요```\n",
        "\n",
        "1. 5\n",
        "2. `<class float>`\n",
        "3. 5.0\n",
        "4. type error"
      ]
    },
    {
      "cell_type": "markdown",
      "metadata": {
        "id": "Z_Tu1OR-gPZi"
      },
      "source": [
        "<span style=\"color:red\">정답: 3번</span>"
      ]
    },
    {
      "cell_type": "markdown",
      "metadata": {
        "id": "Aym3UiWvgPZi"
      },
      "source": []
    },
    {
      "cell_type": "markdown",
      "metadata": {
        "id": "4TQ366-HgPZi"
      },
      "source": [
        "----"
      ]
    },
    {
      "cell_type": "markdown",
      "metadata": {
        "id": "IgqI3FOegPZv"
      },
      "source": [
        "<span style=\"font-size:80%\">[문제5]<br><br></span>\n",
        "```int(13 / 2)의 결과로 올바른 것을 고르세요```\n",
        "\n",
        "1. 6.5\n",
        "2. 1\n",
        "3. 6\n",
        "4. 6.0"
      ]
    },
    {
      "cell_type": "markdown",
      "metadata": {
        "id": "CwSMW8xTgPZv"
      },
      "source": [
        "<span style=\"color:red\">정답: 3번</span>"
      ]
    },
    {
      "cell_type": "markdown",
      "metadata": {
        "id": "F4ARtK_CgPZv"
      },
      "source": []
    },
    {
      "cell_type": "markdown",
      "metadata": {
        "id": "JvlN5xulgPZv"
      },
      "source": [
        "----"
      ]
    },
    {
      "cell_type": "markdown",
      "metadata": {
        "id": "ZauMlqnDgPZv"
      },
      "source": [
        "### Chapter07 : `Python 자료형인 str와 bool 개념 복습하기`"
      ]
    },
    {
      "cell_type": "markdown",
      "metadata": {
        "id": "CblmHRqVgPZv"
      },
      "source": [
        "<span style=\"font-size:80%\">[문제1]<br><br></span>\n",
        "```변수 퀴즈에 들어있는 정답 \"어중이떠중이\"를 출력하기 위한 슬라이싱으로 올바른 것을 모두 골라주세요```\n",
        "\n",
        "퀴즈 = \"스님이 공중에 뜬다를 4글자로 말하면? 어중이떠중이\"\n",
        "\n",
        "1. print(퀴즈[22:27])\n",
        "2. print(퀴즈[22:])\n",
        "3. print(퀴즈[22:28])\n",
        "4. print(퀴즈[28])"
      ]
    },
    {
      "cell_type": "markdown",
      "metadata": {
        "id": "FB6A9qOPgPZv"
      },
      "source": [
        "<span style=\"color:red\">답변</span>"
      ]
    },
    {
      "cell_type": "markdown",
      "metadata": {
        "id": "PcuTClv0gPZv"
      },
      "source": []
    },
    {
      "cell_type": "markdown",
      "metadata": {
        "id": "OsO-XSt_gPZv"
      },
      "source": [
        "----"
      ]
    },
    {
      "cell_type": "markdown",
      "metadata": {
        "id": "-7vhy30hgPZv"
      },
      "source": [
        "<span style=\"font-size:80%\">[문제2]<br><br></span>\n",
        "```과일 변수에 들어있는 p의 개수를 구하는 코드로 올바른 것을 골라주세요```\n",
        "\n",
        "과일 = \"apple\"\n",
        "\n",
        "1. 과일.count('p')\n",
        "2. count(과일, 'p')\n",
        "3. 과일.index('p')\n",
        "4. count('p')"
      ]
    },
    {
      "cell_type": "markdown",
      "metadata": {
        "id": "ia1J7FZHgPZv"
      },
      "source": [
        "<span style=\"color:red\">답변</span>"
      ]
    },
    {
      "cell_type": "markdown",
      "metadata": {
        "id": "0OUF7TyngPZv"
      },
      "source": []
    },
    {
      "cell_type": "markdown",
      "metadata": {
        "id": "fdOjchrhgPZv"
      },
      "source": [
        "----"
      ]
    },
    {
      "cell_type": "markdown",
      "metadata": {
        "id": "87oCfwy5gPZv"
      },
      "source": [
        "<span style=\"font-size:80%\">[문제3]<br><br></span>\n",
        "``` bool 타입에 해당하는 것만 골라주세요```\n",
        "\n",
        "1. true\n",
        "2. True\n",
        "3. False\n",
        "4. 0\n",
        "5. 1"
      ]
    },
    {
      "cell_type": "markdown",
      "metadata": {
        "id": "F58GDH2VgPZw"
      },
      "source": [
        "<span style=\"color:red\">답변</span>"
      ]
    },
    {
      "cell_type": "markdown",
      "metadata": {
        "id": "1Hm7IHRygPZw"
      },
      "source": []
    },
    {
      "cell_type": "markdown",
      "metadata": {
        "id": "1GGi2VjCgPZw"
      },
      "source": [
        "----"
      ]
    },
    {
      "cell_type": "markdown",
      "metadata": {
        "id": "ZvIiS7SHgPZw"
      },
      "source": [
        "<span style=\"font-size:80%\">[문제4]<br><br></span>\n",
        "```문자열의 길이를 구하는 방법으로 올바른 것을 고르세요```\n",
        "\n",
        "라라랜드 =  \"사람들은 다른 사람들의 열정에 끌리게 되어있어 자신이 잊은 걸 상기시켜 주니까\"\n",
        "\n",
        "1. 라라랜드.len()\n",
        "2. length(라라랜드)\n",
        "3. len(라라랜드)\n",
        "4. count(라라랜드)"
      ]
    },
    {
      "cell_type": "markdown",
      "metadata": {
        "id": "moMmxC_0gPZw"
      },
      "source": [
        "<span style=\"color:red\">답변</span>"
      ]
    },
    {
      "cell_type": "markdown",
      "metadata": {
        "id": "oMYyI-cogPZw"
      },
      "source": []
    },
    {
      "cell_type": "markdown",
      "metadata": {
        "id": "yWiqDSIcgPZw"
      },
      "source": [
        "----"
      ]
    },
    {
      "cell_type": "markdown",
      "metadata": {
        "id": "apdf_n-lgPZw"
      },
      "source": [
        "### Chapter08 : `비교 연산자와 논리 연산자에 대해 복습해보기`"
      ]
    },
    {
      "cell_type": "markdown",
      "metadata": {
        "id": "9bW2SD65gPZw"
      },
      "source": [
        "<span style=\"font-size:80%\">[문제1]<br><br></span>\n",
        "```비교 연산자의 결과로 올바르지 않은 것을 골라주세요```\n",
        "\n",
        "1. 8 == 2 * 4&emsp;&emsp;결과 : True\n",
        "2. 4 != 2 + 2&emsp;&emsp;결과 : False\n",
        "3. 2 * 3 is 3 + 3&emsp;&emsp;결과 : True\n",
        "4. 8 is 4 * 2.0&emsp;&emsp;결과 : True\n",
        "5. 5 is 6 - 1.1&emsp;&emsp;결과 : False"
      ]
    },
    {
      "cell_type": "markdown",
      "metadata": {
        "id": "hH5M6it7gPZw"
      },
      "source": [
        "<span style=\"color:red\">답변</span>"
      ]
    },
    {
      "cell_type": "markdown",
      "metadata": {
        "id": "jiP4w2Y7gPZw"
      },
      "source": []
    },
    {
      "cell_type": "markdown",
      "metadata": {
        "id": "L4IwOqFOgPZw"
      },
      "source": [
        "----"
      ]
    },
    {
      "cell_type": "markdown",
      "metadata": {
        "id": "puVCOoC2gPZw"
      },
      "source": [
        "<span style=\"font-size:80%\">[문제2]<br><br></span>\n",
        "```\"x는 5와 같지 않다\"라는 뜻과 동일한 것을 골라주세요```\n",
        "\n",
        "1. x <= 5\n",
        "2. x != 5\n",
        "3. x & 5\n",
        "4. x ! 5"
      ]
    },
    {
      "cell_type": "markdown",
      "metadata": {
        "id": "MHWaM8GKgPZw"
      },
      "source": [
        "<span style=\"color:red\">답변</span>"
      ]
    },
    {
      "cell_type": "code",
      "execution_count": null,
      "metadata": {
        "vscode": {
          "languageId": "plaintext"
        },
        "id": "Dg4r3g2dgPZw"
      },
      "outputs": [],
      "source": []
    },
    {
      "cell_type": "markdown",
      "metadata": {
        "id": "5OKP4o74gPZx"
      },
      "source": [
        "----"
      ]
    },
    {
      "cell_type": "markdown",
      "metadata": {
        "id": "-2kQv_-6gPZx"
      },
      "source": [
        "<span style=\"font-size:80%\">[문제3]<br><br></span>\n",
        "```비교 연산자와 논리 연산자의 결과로 올바른 것을 모두 골라주세요```\n",
        "\n",
        "x = 10\n",
        "y = 20\n",
        "\n",
        "1. x == 10 or y == 10  결과 : False\n",
        "2. x >= 10 and y < 30  결과 : True\n",
        "3. not x == 10 결과 : False\n",
        "4. y != 20 or x != 10  결과 : True\n",
        "5. not y != 20 and x > 5  결과 : False"
      ]
    },
    {
      "cell_type": "markdown",
      "metadata": {
        "id": "3JerdcJvgPZx"
      },
      "source": [
        "<span style=\"color:red\">답변</span>"
      ]
    },
    {
      "cell_type": "markdown",
      "metadata": {
        "id": "yZPmTGw3gPZx"
      },
      "source": []
    },
    {
      "cell_type": "markdown",
      "metadata": {
        "id": "BHYPrP5bgPZx"
      },
      "source": [
        "----"
      ]
    },
    {
      "cell_type": "markdown",
      "metadata": {
        "id": "vtm5AwfWgPZx"
      },
      "source": [
        "<span style=\"font-size:80%\">[문제4]<br><br></span>\n",
        "```'치맥' and True의 결과로 올바른 것을 골라주세요```\n",
        "\n",
        "1. False\n",
        "2. 아묻따\n",
        "3. True\n",
        "4. 치맥True"
      ]
    },
    {
      "cell_type": "markdown",
      "metadata": {
        "id": "0sW-Q3JtgPZx"
      },
      "source": [
        "<span style=\"color:red\">답변</span>"
      ]
    },
    {
      "cell_type": "markdown",
      "metadata": {
        "id": "qQ6WEOGRgPZx"
      },
      "source": []
    },
    {
      "cell_type": "markdown",
      "metadata": {
        "id": "nTFqd4uxgPZx"
      },
      "source": [
        "----"
      ]
    },
    {
      "cell_type": "markdown",
      "metadata": {
        "id": "Qo7Z9HGXgPZx"
      },
      "source": [
        "<span style=\"font-size:80%\">[문제5]<br><br></span>\n",
        "```논리 연산의 결과를 뒤집는 연산자를 골라주세요```\n",
        "\n",
        "1. is not\n",
        "2. not\n",
        "3. !=\n",
        "4. end\n",
        "5. and\n",
        "6. or"
      ]
    },
    {
      "cell_type": "markdown",
      "metadata": {
        "id": "SjNdNyBwgPZx"
      },
      "source": [
        "<span style=\"color:red\">답변</span>"
      ]
    },
    {
      "cell_type": "markdown",
      "metadata": {
        "id": "6fSJuTKPgPZx"
      },
      "source": []
    }
  ],
  "metadata": {
    "language_info": {
      "name": "python"
    },
    "colab": {
      "provenance": []
    }
  },
  "nbformat": 4,
  "nbformat_minor": 0
}