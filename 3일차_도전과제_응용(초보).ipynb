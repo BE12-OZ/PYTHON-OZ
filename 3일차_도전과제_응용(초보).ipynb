{
  "cells": [
    {
      "cell_type": "markdown",
      "metadata": {
        "id": "fD4Qab2qYgOm"
      },
      "source": [
        "안녕하세요. 수강생 여러분~!\n",
        "\n",
        "Chapter01 ~ 13의 수업 내용을 바탕으로 아래 문제를 풀어주시면 됩니다 !\n",
        "\n",
        "지금까지 잘 해오셨으니까, 총 복습한다고 생각하시고 한번 도전해보세요 !!!\n",
        "\n",
        "<br>\n",
        "\n",
        "아래 code 부분에 있는 주석을 활용해서 코드를 작성해보세요 :)\n",
        "\n",
        "<br>\n",
        "\n",
        "- 그래도 어렵다면?\n",
        "\n",
        " `적혀 있는 주석을 모두 삭제한 후, 답안 코드를 활용해서 코드를 작성해보세요. 그리고 꼭 !!!!! 코드마다 주석을 작성해보세요!`\n",
        "\n",
        "<br>\n",
        "\n",
        "\n",
        "[**답변 입력 방법**]\n",
        "\n",
        "문제 아래에 있는 코드 입력창에 정답코드를 작성하신 후  __▷ 버튼을 클릭해 코드를 실행__ 해보세요<br>"
      ]
    },
    {
      "cell_type": "markdown",
      "metadata": {
        "id": "CcZqctELmZu3"
      },
      "source": [
        "---"
      ]
    },
    {
      "cell_type": "markdown",
      "metadata": {
        "id": "hSqaLSdjmZu3"
      },
      "source": [
        "### 프로젝트: 간단한 ATM 관리 시스템\n",
        "<br>\n",
        "\n",
        "__[문제 1: 잔액 확인]__\n",
        "\n",
        "현재 잔액은 1000원입니다. 현재 잔액을 출력하세요.\n",
        "\n",
        "(변수명 예시 : 잔액 - balance)"
      ]
    },
    {
      "cell_type": "code",
      "execution_count": null,
      "metadata": {
        "id": "kOJkRlF-mZu4",
        "outputId": "ac5f67f6-ad1a-466b-adb6-fb05ec2cd392"
      },
      "outputs": [
        {
          "name": "stdout",
          "output_type": "stream",
          "text": [
            "현재 잔액: 100000 원\n"
          ]
        }
      ],
      "source": [
        "# balance 이용해서 초기 잔액을 저장\n",
        "balance = 100000\n",
        "# print 명령어로 출력\n",
        "print(\"현재 잔액:\", balance, \"원\")"
      ]
    },
    {
      "cell_type": "markdown",
      "metadata": {
        "id": "Zy5yfpQtmZu5"
      },
      "source": [
        "__[문제 2: 입금]__\n",
        "\n",
        "가지고 있는 돈을 입금합니다.\n",
        "\n",
        "입금 금액을 입력받고, 잔액을 갱신한 후 새로운 잔액을 출력하세요. 입금 거래를 영수증 리스트에 기록하세요.\n",
        "\n",
        "- 입금 금액은 input()을 이용해 받습니다.\n",
        "- 영수증은 list()로 선언합니다.\n",
        "- 영수증에 들어가는 정보는 튜플 형태입니다.\n",
        "- 튜플에 담기는 정보는 (입금 or 출금, 입금 or 출금 금액, 현재 잔액)순 입니다.\n",
        "\n",
        "(변수명 예시: 영수증 리스트 - receipts, 입금 금액 - deposit_amount)\n"
      ]
    },
    {
      "cell_type": "code",
      "execution_count": null,
      "metadata": {
        "id": "_wTg2YINmZu5",
        "outputId": "35776aec-7598-4468-d0ed-f293513050d8"
      },
      "outputs": [
        {
          "name": "stdout",
          "output_type": "stream",
          "text": [
            "입금 후 잔액: 523563 원 입니다.\n"
          ]
        }
      ],
      "source": [
        "# input 활용해서 금액 입력 / 입력받은 값은 숫자로 바꿔줘야 함.\n",
        "deposit_amount = int(input('입금액을 입력하세요. : '))\n",
        "# 잔액에 입금액을 더해보자\n",
        "balance += deposit_amount\n",
        "# receipts 이용해서 리스트 생성 및 튜플 형태로 추가하자\n",
        "receipts = []\n",
        "receipts.append((\"입금\", deposit_amount, balance))\n",
        "print(\"입금 후 잔액:\", balance, \"원 입니다.\")"
      ]
    },
    {
      "cell_type": "markdown",
      "metadata": {
        "id": "dMSCMYLlmZu6"
      },
      "source": [
        "__[문제 3: 출금]__\n",
        "\n",
        "사용자가 돈을 출금합니다. 출금 금액을 입력받고, 잔액을 갱신한 후 새로운 잔액을 출력하세요. 출금 거래를 영수증 리스트에 기록하세요.\n",
        "\n",
        "- 출금 금액은 input()을 이용해 받습니다.\n",
        "- 현재 잔액보다 출금 요청 금액이 많을 경우 현재 잔액 만큼만 출금되도록 합니다.\n",
        "- 영수증에 들어가는 정보는 튜플 형태입니다.\n",
        "- 튜플에 담기는 정보는 (입금 or 출금, 입금 or 출금 금액, 현재 잔액)순 입니다.\n",
        "\n",
        "(변수명 예시: 출금금액 - withdraw_amount)"
      ]
    },
    {
      "cell_type": "code",
      "execution_count": null,
      "metadata": {
        "id": "i9Z2_DYAmZu6",
        "outputId": "170d4d8c-d3ae-46dc-a9b7-89551179f9a3"
      },
      "outputs": [
        {
          "name": "stdout",
          "output_type": "stream",
          "text": [
            "잔액은 386225 원입니다.\n",
            "초기 화면으로 돌아가시겠습니까?\n",
            "YES or NO\n"
          ]
        }
      ],
      "source": [
        "# input으로 출금액 입력\n",
        "withdraw_amount = int(input('출금액을 입력하세요: '))\n",
        "# if 함수로 출금액이 잔액보다 많을 경우와 적을 경우 출력\n",
        "if withdraw_amount > balance:\n",
        "    print('출금액이 너무 많습니다.')\n",
        "else:\n",
        "    balance -= withdraw_amount\n",
        "    print('잔액은', balance, '원입니다.')\n",
        "# 승인 불가 및 승인 완료 후 메뉴 화면에 출력되는 내용\n",
        "print(\"초기 화면으로 돌아가시겠습니까?\")\n",
        "print(\"YES or NO\")"
      ]
    },
    {
      "cell_type": "markdown",
      "metadata": {
        "id": "VuKyNnEtmZu6"
      },
      "source": [
        "__[문제 4: 모든 거래 내역 확인]__\n",
        "\n",
        "모든 거래 내역(영수증)을 요청받았을 때 출력하세요.\n",
        "- 지금까지 영수증에 추가된 정보를 출력합니다.\n",
        "- 출력 형태는 자유입니다."
      ]
    },
    {
      "cell_type": "code",
      "execution_count": null,
      "metadata": {
        "id": "D0moUb9-mZu7",
        "outputId": "672f1dff-0c1f-4895-ff67-a0798f5766b5"
      },
      "outputs": [
        {
          "name": "stdout",
          "output_type": "stream",
          "text": [
            "모든 거래 내역:\n",
            "1. 거래종류: 입금, 금액: 423563, 잔액: 523563\n"
          ]
        }
      ],
      "source": [
        "# for 명령을 활용해서 반복 출력 해보자. (저장된 거래 출력)\n",
        "print(\"모든 거래 내역:\")\n",
        "for i, receipt in enumerate(receipts, start=1):\n",
        "    거래종류, 금액, 잔액 = receipt\n",
        "    print(f\"{i}. 거래종류: {거래종류}, 금액: {금액}, 잔액: {잔액}\")"
      ]
    }
  ],
  "metadata": {
    "colab": {
      "provenance": []
    },
    "kernelspec": {
      "display_name": "Python 3",
      "name": "python3"
    },
    "language_info": {
      "codemirror_mode": {
        "name": "ipython",
        "version": 3
      },
      "file_extension": ".py",
      "mimetype": "text/x-python",
      "name": "python",
      "nbconvert_exporter": "python",
      "pygments_lexer": "ipython3",
      "version": "3.13.3"
    }
  },
  "nbformat": 4,
  "nbformat_minor": 0
}