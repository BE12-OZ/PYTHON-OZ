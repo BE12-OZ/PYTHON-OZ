{
  "cells": [
    {
      "cell_type": "markdown",
      "metadata": {
        "id": "UYLSUQWExzsT"
      },
      "source": [
        "안녕하세요. 수강생 여러분~! Chapter33 ~ 41 수업은 잘 들으셨나요?\n",
        "\n",
        "Chapter33 ~ 41의 수업 내용을 바탕으로 아래 문제를 풀어주시면 됩니다.\n",
        "\n",
        "\n",
        "<br>\n",
        "\n",
        "\n",
        "[**답변 입력 방법**]\n",
        "\n",
        "문제 아래에 있는 코드 입력창에 정답코드를 작성하신 후  __▷ 버튼을 클릭해 코드를 실행__ 해보세요<br>"
      ]
    },
    {
      "cell_type": "markdown",
      "metadata": {
        "id": "VucB4gdKxzsV"
      },
      "source": [
        "---"
      ]
    },
    {
      "cell_type": "markdown",
      "metadata": {
        "id": "ob3QtbA-xzsV"
      },
      "source": [
        "[문제 1]\n",
        "\n",
        "사용자로부터 두 개의 숫자를 입력받아 나눗셈을 수행하는 프로그램을 작성하세요.\n",
        "\n",
        "[예외처리]\n",
        "- 입력 값이 숫자가 아닐 때 발생할 수 있는 ValueError\n",
        "- 나누는 수가 0일 때 발생할 수 있는 ZeroDivisionError\n",
        "- 위 2가지 예외처리 후 사용자에게 이해하기 쉬운 메시지 작성 후 출력되도록 코드를 작성"
      ]
    },
    {
      "cell_type": "code",
      "execution_count": null,
      "metadata": {
        "id": "lFHpK6tlxzsW",
        "outputId": "1fdcef7d-2428-4252-a2fa-4081a4b9e812"
      },
      "outputs": [
        {
          "name": "stdout",
          "output_type": "stream",
          "text": [
            "0.5\n"
          ]
        }
      ],
      "source": [
        "try:\n",
        "    no_1 = int(input(\"첫 번째 숫자를 입력해주세요: \"))\n",
        "    no_2 = int(input(\"두 번째 숫자를 입력해주세요: \"))\n",
        "    result = no_1 / no_2\n",
        "    print(no_1 / no_2)\n",
        "except ZeroDivisionError:\n",
        "    print(\"Error: 0으로 나눌 수 없습니다.\")\n",
        "except ValueError:\n",
        "    print(\"숫자만 입력할 수 있습니다.\")"
      ]
    },
    {
      "cell_type": "markdown",
      "metadata": {
        "id": "Cq3Xqk7JxzsX"
      },
      "source": [
        "---"
      ]
    },
    {
      "cell_type": "markdown",
      "metadata": {
        "id": "rQBno3O4xzsX"
      },
      "source": [
        "[문제 2]\n",
        "\n",
        "파일을 읽어서 내용을 출력하는 프로그램을 작성하세요.\n",
        "\n",
        "- 파일이 존재하지 않을 때 발생하는 FileNotFoundError를 처리\n",
        "- 파일이 존재하지 않을 경우 \"파일을 찾을 수 없습니다.\"라는 메시지를 출력"
      ]
    },
    {
      "cell_type": "code",
      "execution_count": null,
      "metadata": {
        "id": "oxxtY6gDxzsY",
        "outputId": "dda3b6fd-4667-4287-8a6e-62e3a6ee4d23"
      },
      "outputs": [
        {
          "name": "stdout",
          "output_type": "stream",
          "text": [
            "해당 파일을 찾을 수 없습니다.\n"
          ]
        }
      ],
      "source": [
        "try:\n",
        "    with open('test.txt', 'r') as file:\n",
        "        print(file.read())\n",
        "except FileNotFoundError:\n",
        "    print(\"해당 파일을 찾을 수 없습니다.\")"
      ]
    },
    {
      "cell_type": "markdown",
      "metadata": {
        "id": "4VT1Yly4xzsY"
      },
      "source": [
        "---"
      ]
    },
    {
      "cell_type": "markdown",
      "metadata": {
        "id": "IUBi-KYMxzsZ"
      },
      "source": [
        "[문제 3]\n",
        "\n",
        "사용자로부터 여러 개의 숫자를 입력받아 리스트에 저장한 후, 사용자가 'done'이라고 입력할 때까지 계속 입력받으세요.\n",
        "\n",
        "- 입력 중 숫자가 아닌 값이 입력되면 ValueError를 처리\n",
        "- 숫자 외 값이 입력된 경우 어떤 값이 잘못 입력되었는지 사용자에게 알려주는 문구 출력<br>\n",
        "  (예: f\"잘못된 값: {변수}. 숫자를 입력해주세요.\")\n",
        "\n"
      ]
    },
    {
      "cell_type": "code",
      "execution_count": null,
      "metadata": {
        "id": "C8UFM1hhxzsZ"
      },
      "outputs": [],
      "source": [
        "numbers = []\n",
        "while True:\n",
        "    user_input = input(\"숫자를 입력하세요. (종료하려면 'done' 입력): \")\n",
        "    if user_input == 'done':\n",
        "        break\n",
        "    try:\n",
        "        number = float(user_input)\n",
        "        numbers.append(number)\n",
        "    except ValueError:\n",
        "        print(\"잘못된 입력입니다. 숫자를 입력하세요.\")"
      ]
    },
    {
      "cell_type": "markdown",
      "metadata": {
        "id": "q5YvHL5fxzsZ"
      },
      "source": [
        "---"
      ]
    },
    {
      "cell_type": "markdown",
      "metadata": {
        "id": "i2jy_Je5xzsZ"
      },
      "source": [
        "[문제 4]\n",
        "\n",
        "사용자 정의 예외 NegativeNumberError를 생성하고, 사용자로부터 숫자를 입력받아 음수일 경우 NegativeNumberError를 발생시키는 프로그램을 작성하세요.\n",
        "\n",
        "- 예외 처리 구문을 사용하여 음수 입력 시 \"양수를 입력해주세요.\"라는 메시지를 출력"
      ]
    },
    {
      "cell_type": "code",
      "execution_count": null,
      "metadata": {
        "id": "npTPYz8hxzsZ",
        "outputId": "490ce534-f76c-40b7-d5e5-a83a2fd32875"
      },
      "outputs": [
        {
          "name": "stdout",
          "output_type": "stream",
          "text": [
            "Error: 음수는 입력하실 수 없습니다.\n"
          ]
        }
      ],
      "source": [
        "class NegativeNumberError(Exception):\n",
        "    pass\n",
        "\n",
        "try:\n",
        "    num = int(input(\"숫자를 입력해주세요.: \"))\n",
        "    if num < 0:\n",
        "        raise NegativeNumberError(\"음수는 입력하실 수 없습니다.\")\n",
        "    print(\"양수를 입력하세요.:\", num)\n",
        "except NegativeNumberError as e:\n",
        "    print(\"Error:\", e)"
      ]
    },
    {
      "cell_type": "markdown",
      "metadata": {
        "id": "jg25yfrrxzsa"
      },
      "source": [
        "---"
      ]
    },
    {
      "cell_type": "markdown",
      "metadata": {
        "id": "8X7vW3w8xzsa"
      },
      "source": [
        "[문제 5]\n",
        "\n",
        "datetime 모듈을 사용하여 현재 날짜와 시간을 출력하는 프로그램을 작성하세요.\n",
        "\n",
        "또한, 사용자로부터 태어난 년도를 입력받아 현재 나이를 계산하여 출력하세요."
      ]
    },
    {
      "cell_type": "code",
      "execution_count": null,
      "metadata": {
        "id": "bt8OeiYfxzsa",
        "outputId": "9a312283-5878-4408-e4bf-ec2fc373a600"
      },
      "outputs": [
        {
          "name": "stdout",
          "output_type": "stream",
          "text": [
            "현재 날짜와 시간: 2025-06-09 14:15:49.046069\n",
            "나이: 33\n",
            "생일: 1992\n"
          ]
        }
      ],
      "source": [
        "from datetime import datetime\n",
        "\n",
        "now = datetime.now()\n",
        "print(\"현재 날짜와 시간:\", now)\n",
        "\n",
        "생일 = int(input(\"생일을 입력하세요: \"))\n",
        "나이 = now.year - 생일\n",
        "print(\"나이:\", 나이)\n",
        "print(\"생일:\", 생일)\n"
      ]
    },
    {
      "cell_type": "markdown",
      "metadata": {
        "id": "w_ufjVQzxzsa"
      },
      "source": [
        "---"
      ]
    },
    {
      "cell_type": "markdown",
      "metadata": {
        "id": "TTcUJEDgxzsa"
      },
      "source": [
        "[문제 6]\n",
        "\n",
        "requests 모듈을 사용하여, 웹 페이지의 HTML을 가져오는 간단한 웹 스크레이퍼를 작성하세요.\n",
        "\n",
        "'https://kream.co.kr/'에서<br>\n",
        "데이터를 가져와서 상태 코드와 HTML의 첫 100자를 출력하세요.<br>\n",
        "(실습 전 requests 모듈을 설치해야 함)"
      ]
    },
    {
      "cell_type": "code",
      "execution_count": null,
      "metadata": {
        "id": "qS0ONblFxzsa",
        "outputId": "92bd38bc-b9ef-4b3b-d465-68809ad8ad68"
      },
      "outputs": [
        {
          "name": "stdout",
          "output_type": "stream",
          "text": [
            "상태 코드: 500\n",
            "HTML 내용 (첫 100자): <!DOCTYPE html>\n",
            "<html lang=\"ko\">\n",
            "<head>\n",
            "<meta name=\"robots\" content=\"noindex, nofollow\" />\n",
            "<meta htt\n"
          ]
        }
      ],
      "source": [
        "import requests\n",
        "\n",
        "response = requests.get('https://www.kream.co.kr')\n",
        "print(\"상태 코드:\", response.status_code)\n",
        "print(\"HTML 내용 (첫 100자):\", response.text[:100])"
      ]
    },
    {
      "cell_type": "markdown",
      "metadata": {
        "id": "q3DBNmowxzsa"
      },
      "source": [
        "---"
      ]
    },
    {
      "cell_type": "markdown",
      "metadata": {
        "id": "kSSFvd2xxzsa"
      },
      "source": [
        "[문제 7]\n",
        "\n",
        "함수 실행 시간을 측정하는 데코레이터 timer_decorator를 작성하세요.\n",
        "\n",
        "임의의 함수가 실행되는 시간을 측정하여 \"함수 실행 시간: x.xx초\" 형태로 출력하세요."
      ]
    },
    {
      "cell_type": "code",
      "execution_count": null,
      "metadata": {
        "id": "bfSrFe0Xxzsa",
        "outputId": "dc0af178-79ed-4ab2-ac6c-f5745de29640"
      },
      "outputs": [
        {
          "name": "stdout",
          "output_type": "stream",
          "text": [
            "함수 실행 시간: 0.05 초\n",
            "499999500000\n"
          ]
        }
      ],
      "source": [
        "import time\n",
        "\n",
        "def timer_decorator(func):\n",
        "    def wrapper(*args, **kwargs):\n",
        "        start_time = time.time()\n",
        "        result = func(*args, **kwargs)\n",
        "        end_time = time.time()\n",
        "        print(f\"함수 실행 시간: {end_time - start_time:.2f} 초\")\n",
        "        return result\n",
        "    return wrapper\n",
        "\n",
        "@timer_decorator\n",
        "def example_function(n):\n",
        "    sum = 0\n",
        "    for i in range(n):\n",
        "        sum += i\n",
        "    return sum\n",
        "print(example_function(1000000))"
      ]
    },
    {
      "cell_type": "markdown",
      "metadata": {
        "id": "1-ddmkG-xzsa"
      },
      "source": [
        "---"
      ]
    },
    {
      "cell_type": "markdown",
      "metadata": {
        "id": "f-KZAe2Ixzsb"
      },
      "source": [
        "[문제 8]\n",
        "\n",
        "여러분이 자주 사용하는 수학적 연산<br>\n",
        "(예: 삼각형 넓이, 원의 넓이, 직육면체의 넓이)을 수행하는 함수들을 포함하는 mymath.py라는 이름의 모듈을 만드세요.\n",
        "\n",
        "이 모듈을 사용하여 작성된 함수들을 실제로 임포트하고 사용하는 간단한 프로그램을 작성하세요."
      ]
    },
    {
      "cell_type": "code",
      "execution_count": null,
      "metadata": {
        "id": "bQlauWArxzsb",
        "outputId": "4e08ded7-8697-4db4-cf57-a612c65b6eb2"
      },
      "outputs": [
        {
          "name": "stdout",
          "output_type": "stream",
          "text": [
            "삼각형 넓이:  9.0\n",
            "원의 넓이:  50.26548245743669\n",
            "직사각형 넓이: 24\n"
          ]
        }
      ],
      "source": [
        "import math\n",
        "# 삼각형 넓이 구하는 함수\n",
        "def triangle_area(base, height):\n",
        "    return (base * height) / 2\n",
        "print(\"삼각형 넓이: \", triangle_area(3, 6))\n",
        "# 원의 넓이 구하는 함수\n",
        "def circle_area(radius):\n",
        "    return math.pi * (radius ** 2)\n",
        "print(\"원의 넓이: \", circle_area(4))\n",
        "# 직사각형 넓이 구하는 함수\n",
        "def rectangle_area(width, height):\n",
        "    return width * height\n",
        "print(\"직사각형 넓이:\" ,rectangle_area(4, 6))\n"
      ]
    },
    {
      "cell_type": "markdown",
      "metadata": {
        "id": "-NAHfGElxzsb"
      },
      "source": [
        "---"
      ]
    },
    {
      "cell_type": "markdown",
      "metadata": {
        "id": "pcxkxOYJxzsb"
      },
      "source": [
        "[문제 9]\n",
        "\n",
        "animals라는 패키지를 만들고, 이 패키지 내에 mammals, birds라는 두 개의 서브 모듈을 생성하세요.\n",
        "\n",
        "- 각 모듈에는 최소한 한 개 이상의 동물에 관한 클래스를 정의하세요<br>\n",
        "  (예: mammals에는 Dog, birds에는 Eagle)\n",
        "- 이 패키지와 모듈을 사용하여 동물들의 정보를 출력하는 프로그램을 작성\n",
        "\n",
        "폴더 및 파일 구조\n",
        "```\n",
        "animals/(폴더)\n",
        "├── __init__.py\n",
        "├── mammals.py\n",
        "└── birds.py\n",
        "```\n"
      ]
    },
    {
      "cell_type": "code",
      "execution_count": null,
      "metadata": {
        "id": "-GTb7Dz-xzsb"
      },
      "outputs": [],
      "source": [
        "# mammals.py 생상\n",
        "def speak(self):\n",
        "    return \"멍멍!\"\n",
        "def __str__(self):\n",
        "    return \"Dog\""
      ]
    },
    {
      "cell_type": "code",
      "execution_count": null,
      "metadata": {
        "id": "KUmqJl13xzsb"
      },
      "outputs": [],
      "source": [
        "# birds.py 성성\n",
        "def speak(self):\n",
        "    return \"짹짹\"\n",
        "def __str__(self):\n",
        "    return \"Birds\""
      ]
    },
    {
      "cell_type": "code",
      "execution_count": null,
      "metadata": {
        "id": "XoWgNHXLxzsb",
        "outputId": "06868f8b-e0b5-49a1-cea1-bf75cda7dc4b"
      },
      "outputs": [
        {
          "ename": "ModuleNotFoundError",
          "evalue": "No module named 'animals'",
          "output_type": "error",
          "traceback": [
            "\u001b[31m---------------------------------------------------------------------------\u001b[39m",
            "\u001b[31mModuleNotFoundError\u001b[39m                       Traceback (most recent call last)",
            "\u001b[36mCell\u001b[39m\u001b[36m \u001b[39m\u001b[32mIn[51]\u001b[39m\u001b[32m, line 2\u001b[39m\n\u001b[32m      1\u001b[39m \u001b[38;5;66;03m# 동물 소리 모음\u001b[39;00m\n\u001b[32m----> \u001b[39m\u001b[32m2\u001b[39m \u001b[38;5;28;01mfrom\u001b[39;00m\u001b[38;5;250m \u001b[39m\u001b[34;01manimals\u001b[39;00m\u001b[34;01m.\u001b[39;00m\u001b[34;01mmammals\u001b[39;00m\u001b[38;5;250m \u001b[39m\u001b[38;5;28;01mimport\u001b[39;00m Dog\n\u001b[32m      3\u001b[39m \u001b[38;5;28;01mfrom\u001b[39;00m\u001b[38;5;250m \u001b[39m\u001b[34;01manimals\u001b[39;00m\u001b[34;01m.\u001b[39;00m\u001b[34;01mbirds\u001b[39;00m\u001b[38;5;250m \u001b[39m\u001b[38;5;28;01mimport\u001b[39;00m Birds\n\u001b[32m      4\u001b[39m dog = Dog()\n",
            "\u001b[31mModuleNotFoundError\u001b[39m: No module named 'animals'"
          ]
        }
      ],
      "source": [
        "# 동물 소리 모음\n",
        "from animals.mammals import Dog\n",
        "from animals.birds import Birds\n",
        "dog = Dog()\n",
        "print"
      ]
    },
    {
      "cell_type": "markdown",
      "metadata": {
        "id": "r-lMTT-Ixzsb"
      },
      "source": [
        "---"
      ]
    }
  ],
  "metadata": {
    "kernelspec": {
      "display_name": "Python 3",
      "language": "python",
      "name": "python3"
    },
    "language_info": {
      "codemirror_mode": {
        "name": "ipython",
        "version": 3
      },
      "file_extension": ".py",
      "mimetype": "text/x-python",
      "name": "python",
      "nbconvert_exporter": "python",
      "pygments_lexer": "ipython3",
      "version": "3.13.3"
    },
    "colab": {
      "provenance": []
    }
  },
  "nbformat": 4,
  "nbformat_minor": 0
}