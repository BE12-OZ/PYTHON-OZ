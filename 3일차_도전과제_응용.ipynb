{
  "cells": [
    {
      "cell_type": "markdown",
      "metadata": {
        "id": "fD4Qab2qYgOm"
      },
      "source": [
        "안녕하세요. 수강생 여러분~!\n",
        "\n",
        "Chapter01 ~ 13의 수업 내용을 바탕으로 아래 문제를 풀어주시면 됩니다 !\n",
        "\n",
        "지금까지 잘 해오셨으니까, 총 복습한다고 생각하시고 한번 도전해보세요 !!!\n",
        "\n",
        "\n",
        "<br>\n",
        "\n",
        "\n",
        "[**답변 입력 방법**]\n",
        "\n",
        "문제 아래에 있는 코드 입력창에 정답코드를 작성하신 후  __▷ 버튼을 클릭해 코드를 실행__ 해보세요<br>"
      ]
    },
    {
      "cell_type": "markdown",
      "metadata": {
        "id": "1X6_nOi5m09b"
      },
      "source": [
        "---"
      ]
    },
    {
      "cell_type": "markdown",
      "metadata": {
        "id": "Ue_-IhI4m09c"
      },
      "source": [
        "### 프로젝트: 간단한 ATM 관리 시스템\n",
        "<br>\n",
        "\n",
        "__[문제 1: 잔액 확인]__\n",
        "\n",
        "현재 잔액은 1000원입니다. 현재 잔액을 출력하세요.\n",
        "\n",
        "(변수명 예시 : 잔액 - balance)"
      ]
    },
    {
      "cell_type": "code",
      "execution_count": null,
      "metadata": {
        "id": "eO6Qe_kYm09c",
        "outputId": "6ad63949-8dd0-4229-cef2-a40eaf5b367e"
      },
      "outputs": [
        {
          "name": "stdout",
          "output_type": "stream",
          "text": [
            "현재 잔액은 1000 원 입니다.\n"
          ]
        }
      ],
      "source": [
        "# 초기 잔액구하기\n",
        "balance = 1000\n",
        "print (\"현재 잔액은\", balance, \"원 입니다.\")"
      ]
    },
    {
      "cell_type": "markdown",
      "metadata": {
        "id": "mWB7geg1m09e"
      },
      "source": [
        "__[문제 2: 입금]__\n",
        "\n",
        "가지고 있는 돈을 입금합니다.\n",
        "\n",
        "입금 금액을 입력받고, 잔액을 갱신한 후 새로운 잔액을 출력하세요. 입금 거래를 영수증 리스트에 기록하세요.\n",
        "\n",
        "- 입금 금액은 input()을 이용해 받습니다.\n",
        "- 영수증은 list()로 선언합니다.\n",
        "- 영수증에 들어가는 정보는 튜플 형태입니다.\n",
        "- 튜플에 담기는 정보는 (입금 or 출금, 입금 or 출금 금액, 현재 잔액)순 입니다.\n",
        "\n",
        "(변수명 예시: 영수증 리스트 - receipts, 입금 금액 - deposit_amount)\n"
      ]
    },
    {
      "cell_type": "code",
      "execution_count": null,
      "metadata": {
        "id": "GbAygIBDm09e",
        "outputId": "ae3064fe-54bc-428f-d66f-eba16c7a36f8"
      },
      "outputs": [
        {
          "name": "stdout",
          "output_type": "stream",
          "text": [
            "입금 내역: [('입금', 5346, 65481)]\n",
            "입금 후 잔액: 65481 원\n"
          ]
        }
      ],
      "source": [
        "# 영수증 리스트 만들기\n",
        "receipts = []\n",
        "# 입금 금액 입력하는 코드 작성\n",
        "deposit_amount = int(input(\"입금액을 입력하세요: \"))\n",
        "# 잔액 계산해보기\n",
        "balance += deposit_amount\n",
        "# 입금 내역 만들기\n",
        "receipts.append((\"입금\", deposit_amount, balance))\n",
        "print(\"입금 내역:\", receipts)\n",
        "# 입금 후 잔액 확인해보기\n",
        "print(\"입금 후 잔액:\", balance, \"원\")"
      ]
    },
    {
      "cell_type": "markdown",
      "metadata": {
        "id": "YFn-pq6Gm09f"
      },
      "source": [
        "__[문제 3: 출금]__\n",
        "\n",
        "사용자가 돈을 출금합니다. 출금 금액을 입력받고, 잔액을 갱신한 후 새로운 잔액을 출력하세요. 출금 거래를 영수증 리스트에 기록하세요.\n",
        "\n",
        "- 출금 금액은 input()을 이용해 받습니다.\n",
        "- 현재 잔액보다 출금 요청 금액이 많을 경우 현재 잔액 만큼만 출금되도록 합니다.\n",
        "- 영수증에 들어가는 정보는 튜플 형태입니다.\n",
        "- 튜플에 담기는 정보는 (입금 or 출금, 입금 or 출금 금액, 현재 잔액)순 입니다.\n",
        "\n",
        "(변수명 예시: 출금금액 - withdraw_amount)"
      ]
    },
    {
      "cell_type": "code",
      "execution_count": null,
      "metadata": {
        "id": "YNQiPJfAm09f",
        "outputId": "8fe75bd1-229a-4116-9a0f-4b04d554383a"
      },
      "outputs": [
        {
          "name": "stdout",
          "output_type": "stream",
          "text": [
            "잔액:  100000\n",
            "잔액이 부족합니다.\n",
            "잔액:  -2045125\n"
          ]
        }
      ],
      "source": [
        "withdraw_amount = int(input(\"출금할 금액을 입력하세요: \"))\n",
        "balance = 100000\n",
        "print(\"잔액: \", balance)\n",
        "if withdraw_amount > balance:\n",
        "    print(\"잔액이 부족합니다.\")\n",
        "else:\n",
        "    print(\"출금완료\")\n",
        "print(\"잔액: \", balance - withdraw_amount)"
      ]
    },
    {
      "cell_type": "markdown",
      "metadata": {
        "id": "c6RLuViem09g"
      },
      "source": [
        "__[문제 4: 모든 거래 내역 확인]__\n",
        "\n",
        "모든 거래 내역(영수증)을 요청받았을 때 출력하세요.\n",
        "- 지금까지 영수증에 추가된 정보를 출력합니다.\n",
        "- 출력 형태는 자유입니다."
      ]
    },
    {
      "cell_type": "code",
      "execution_count": null,
      "metadata": {
        "id": "nFdHS7h7m09g",
        "outputId": "eac49cdc-5dda-4b88-93ad-3b3350edec0c"
      },
      "outputs": [
        {
          "name": "stdout",
          "output_type": "stream",
          "text": [
            "입출력 거래 내역:\n",
            "1. 입금: 5346원, 잔액: 65481원\n"
          ]
        }
      ],
      "source": [
        "print(\"입출력 거래 내역:\")\n",
        "for i, receipt in enumerate(receipts, start=1):\n",
        "    거래종류, 금액, 잔액 = receipt\n",
        "    print(f\"{i}. {거래종류}: {금액}원, 잔액: {잔액}원\")"
      ]
    }
  ],
  "metadata": {
    "colab": {
      "provenance": []
    },
    "kernelspec": {
      "display_name": "Python 3",
      "name": "python3"
    },
    "language_info": {
      "codemirror_mode": {
        "name": "ipython",
        "version": 3
      },
      "file_extension": ".py",
      "mimetype": "text/x-python",
      "name": "python",
      "nbconvert_exporter": "python",
      "pygments_lexer": "ipython3",
      "version": "3.13.3"
    }
  },
  "nbformat": 4,
  "nbformat_minor": 0
}