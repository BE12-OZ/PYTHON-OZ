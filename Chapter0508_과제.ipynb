{
  "cells": [
    {
      "cell_type": "markdown",
      "metadata": {
        "id": "WXEwMsfUct7U"
      },
      "source": [
        "안녕하세요.<br><br>\n",
        "수강생 여러분~! Chapter05 ~ 08 수업은 잘 들으셨나요?\n",
        "\n",
        "Chapter05 ~ 08의 수업 내용을 바탕으로 아래 문제를 풀어주시면 됩니다.\n",
        "\n",
        "<br>\n",
        "\n",
        "\n",
        "[**답변 입력 방법**]\n",
        "\n",
        "문제 아래에 있는 코드 입력창에 정답코드를 작성하신 후  __▷ 버튼을 클릭해 코드를 실행__ 해보세요<br>"
      ]
    },
    {
      "cell_type": "markdown",
      "metadata": {
        "id": "qoyC9wF-3hvs"
      },
      "source": [
        "-----"
      ]
    },
    {
      "cell_type": "markdown",
      "metadata": {
        "id": "xpjNLJUhO1MR"
      },
      "source": [
        "## 모험가들의 레벨업 도전\n",
        "\n",
        "### [배경 이야기]\n",
        "\n",
        "당신은 마법사, 전사, 도적, 힐러 네 명의 모험가를 이끄는 리더입니다.\n",
        "\n",
        "각 캐릭터는 힘, 민첩, 지능, 체력이라는 능력치를 가지고 있습니다. 이 능력치들을 이용해 다양한 도전을 해결하고 사냥을 통해 경험치를 얻어 레벨업을 해야 합니다.\n",
        "\n",
        "<br>\n",
        "\n",
        "### [동료 캐릭터와 능력치 정보]\n",
        "\n",
        "마법사: 힘(10), 민첩(20), 지능(80), 체력(50)\n",
        "\n",
        "전사: 힘(80), 민첩(30), 지능(20), 체력(100)\n",
        "\n",
        "도적: 힘(40), 민첩(80), 지능(30), 체력(60)\n",
        "\n",
        "힐러: 힘(20), 민첩(40), 지능(70), 체력(70)\n",
        "\n",
        "<br>\n",
        "\n",
        "* 변수명을 영어로 변경해서 풀어보세요 !"
      ]
    },
    {
      "cell_type": "markdown",
      "metadata": {
        "id": "D3dzZ0PqO1MS"
      },
      "source": [
        "<br>\n",
        "\n",
        "__[문제 1: 첫 번째 사냥]__\n",
        "\n",
        "마법사는 몬스터를 사냥하기 위해 마법을 사용합니다.\n",
        "\n",
        "마법을 사용하려면 지능이 50 이상이어야 합니다.\n",
        "\n",
        "마법사의 지능이 50 이상인지 확인하세요."
      ]
    },
    {
      "cell_type": "code",
      "execution_count": 1,
      "metadata": {
        "colab": {
          "base_uri": "https://localhost:8080/"
        },
        "id": "aGWWfvzcO1MS",
        "outputId": "d27a3dce-f072-43cf-f6ba-619abaccb525"
      },
      "outputs": [
        {
          "output_type": "stream",
          "name": "stdout",
          "text": [
            "마법 사용 가능\n"
          ]
        }
      ],
      "source": [
        "# 문제 해석 : mage intelligence =80 / can use magic >=50 >>> print(\" \" if 옵션 else \" \")\n",
        "# 참: >=50 거짓: <50\n",
        "\n",
        "mage_intelligence = 80\n",
        "can_use_magic = mage_intelligence >= 50\n",
        "print(\"마법 사용 가능\" if can_use_magic else \"마법 사용 불가능\")"
      ]
    },
    {
      "cell_type": "markdown",
      "metadata": {
        "id": "JbSO_unlO1MT"
      },
      "source": [
        "<br>\n",
        "\n",
        "__[문제 2: 두 번째 사냥]__\n",
        "\n",
        "전사는 강력한 공격을 하기 위해 자신의 힘을 사용합니다.\n",
        "\n",
        "전사의 힘이 60 이상이고 체력이 80 이상인지 확인하세요."
      ]
    },
    {
      "cell_type": "code",
      "execution_count": null,
      "metadata": {
        "id": "_KEu3_YOO1MT",
        "outputId": "9c518be5-9a27-4939-eb24-44680a0ada03"
      },
      "outputs": [
        {
          "name": "stdout",
          "output_type": "stream",
          "text": [
            "공격 가능\n"
          ]
        }
      ],
      "source": [
        "# 문제 해석 :warrior strength =80 , health =100 / Can Attack = strength >=60 And health >=80 >>> print(\" \" if 옵션 else \" \")\n",
        "# 참: >=60 and >=80 거짓: <60 or <80\n",
        "\n",
        "warrior_strength = 80\n",
        "warrior_health = 100\n",
        "can_attack = warrior_strength >= 60 and warrior_health >= 80\n",
        "print(\"공격 가능\" if can_attack else \"공격 불가능\")\n"
      ]
    },
    {
      "cell_type": "markdown",
      "metadata": {
        "id": "D2SPF-DTO1MU"
      },
      "source": [
        "<br>\n",
        "\n",
        "__[문제 3: 세 번째 사냥]__\n",
        "\n",
        "도적은 민첩함을 이용해 몬스터를 회피하고 공격합니다.\n",
        "\n",
        "도적의 민첩이 70 이상이거나 힘이 50 이상인지 확인하세요."
      ]
    },
    {
      "cell_type": "code",
      "execution_count": null,
      "metadata": {
        "id": "8yRPfvYvO1MU",
        "outputId": "77afd56c-1886-4cd4-e3af-2c5292089c99"
      },
      "outputs": [
        {
          "name": "stdout",
          "output_type": "stream",
          "text": [
            "회피 가능\n"
          ]
        }
      ],
      "source": [
        "# 문제 해석 : rogue agility =80, strength =40 / Can dodge = agility >=70 or strength >=50 >>> print(\" \" if 옵션 else \" \")\n",
        "# 참: >=70 or >=50 거짓: <70 and <50\n",
        "\n",
        "rogue_agility = 80\n",
        "rogue_strength = 40\n",
        "can_dodge = rogue_agility >= 70 or rogue_strength >= 50\n",
        "print(\"회피 가능\" if can_dodge else \"회피 불가능\")\n"
      ]
    },
    {
      "cell_type": "markdown",
      "metadata": {
        "id": "PMCXd1TfO1MU"
      },
      "source": [
        "<br>\n",
        "\n",
        "__[문제 4: 네 번째 사냥]__\n",
        "\n",
        "힐러는 파티의 체력을 회복시키기 위해 마법을 사용합니다.\n",
        "\n",
        "힐러의 지능이 60 이상이고, 체력이 50 이상인지 확인하세요."
      ]
    },
    {
      "cell_type": "code",
      "execution_count": null,
      "metadata": {
        "id": "ji0aa6DIO1MU",
        "outputId": "231b844c-3deb-4a07-c1a5-f22b59f72445"
      },
      "outputs": [
        {
          "name": "stdout",
          "output_type": "stream",
          "text": [
            "치유 가능\n"
          ]
        }
      ],
      "source": [
        "# 문제 해석 : healer intelligence =70, health =70 / can heal = intelligence >=60 and health >=50 >>> print(\" \" if 옵션 else \" \")\n",
        "# 참: >=60 and >=50 거짓: <60 or <50\n",
        "\n",
        "healer_intelligence = 70\n",
        "healer_health = 70\n",
        "can_heal = healer_intelligence >= 60 and healer_health >= 50\n",
        "print(\"치유 가능\" if can_heal else \"치유 불가능\")\n"
      ]
    },
    {
      "cell_type": "markdown",
      "metadata": {
        "id": "WIlOSJVnO1MV"
      },
      "source": [
        "<br>\n",
        "\n",
        "__[문제 5: 레벨업]__\n",
        "\n",
        "모든 캐릭터가 사냥을 성공적으로 마쳤습니다. 이제 경험치를 얻어 레벨업을 해야 합니다.\n",
        "\n",
        "\n",
        "각 캐릭터의 경험치가 100 이상인지 print()를 이용해 확인해주세요.\n",
        "\n",
        "<br>\n",
        "\n",
        "경험치는 아래와 같습니다.\n",
        "\n",
        "마법사: 120\n",
        "\n",
        "전사: 150\n",
        "\n",
        "도적: 110\n",
        "\n",
        "힐러: 90\n",
        "\n"
      ]
    },
    {
      "cell_type": "code",
      "execution_count": null,
      "metadata": {
        "id": "6kO8FlzoO1MV",
        "outputId": "da90dc14-a5a6-4b7e-8123-ddc637ec2a81"
      },
      "outputs": [
        {
          "name": "stdout",
          "output_type": "stream",
          "text": [
            "마법사 레벨 업 가능\n",
            "전사 레벨 업 가능\n",
            "도적 레벨 업 가능\n",
            "힐러 레벨 업 불가능\n"
          ]
        }
      ],
      "source": [
        "# 문제 해석 : mage 120, warrior 150, rogue 110, healer 90 / Level up = mage, warrior, rogue, healer exp >= 100\n",
        "# >>> def chek_level_up(레벨 업 확인), if exp >= 100, character_name\n",
        "# >>> if print(\"레벨 업 가능\") else print(\"레벨 업 불가능\")\n",
        "# 참: >=100 거짓: <100\n",
        "\n",
        "Mage_Level_Up = mage_exp = 120\n",
        "Warrior_Level_Up = warrior_exp = 150\n",
        "Logue_Level_Up = rogue_exp = 110\n",
        "Healer_Level_Up = healer_exp = 90\n",
        "\n",
        "def check_level_up(exp, character_name):\n",
        "    if exp >= 100:\n",
        "        print(f\"{character_name} 레벨 업 가능\")\n",
        "    else:\n",
        "        print(f\"{character_name} 레벨 업 불가능\")\n",
        "\n",
        "check_level_up(Mage_Level_Up, \"마법사\")\n",
        "check_level_up(Warrior_Level_Up, \"전사\")\n",
        "check_level_up(Logue_Level_Up, \"도적\")\n",
        "check_level_up(Healer_Level_Up, \"힐러\")\n",
        "\n",
        "\n"
      ]
    },
    {
      "cell_type": "code",
      "execution_count": null,
      "metadata": {
        "id": "ko6BvsJBO1MV",
        "outputId": "860837a9-5995-4c38-e7f7-994743a72cd5"
      },
      "outputs": [
        {
          "name": "stdout",
          "output_type": "stream",
          "text": [
            "민수 시험 합격\n",
            "영희 시험 불합격\n",
            "철수 시험 합격\n"
          ]
        }
      ],
      "source": [
        "# 헷갈리는 부분 다시 연습하기 (def 구성 및 의미 + 코드 작성할 때 유의점 -> :, 부등호, 괄호 및 괄호 안에 들어가는 내용의 목적 등)\n",
        "\n",
        "# 연습 문제\n",
        "# 오즈 코딩스쿨 12기 학생들 중 민수, 영희, 철수가 오늘 Git 명령어 시험을 진행했다.\n",
        "# 시험 체점결과에 나온 학생들의 점수로 합격 여부를 노션에 공지해보자. (단, 커트라인은 60점 이상이다.)\n",
        "#\n",
        "# A 학생 = 70점, B 학생 = 55점, C 학생 = 65점\n",
        "\n",
        "Student_A = Git_Test_score = 70\n",
        "Student_B = Git_Test_score = 55\n",
        "Student_C = Git_Test_score = 65\n",
        "# 문제 해석: 학생 A, B, C의 Git 시험 점수\n",
        "\n",
        "def check_Test_Passed(score, Git):\n",
        "    # check_Test_Passed(점수, 교과목))\n",
        "    if score >= 60:\n",
        "        # 시험 합격점수 60점 이상 (참: >=60 거짓: <60)\n",
        "        print(f\"{Git} 시험 합격\")\n",
        "        # Git 교과목 점수 60점 이상 \"시험 합격\"으로 출력\n",
        "    else:\n",
        "        print(f\"{Git} 시험 불합격\")\n",
        "        # Git 교과목 점수 60점 이하 \"시험 불합격\"으로 출력\n",
        "\n",
        "check_Test_Passed(Student_A, \"민수\")\n",
        "check_Test_Passed(Student_B, \"영희\")\n",
        "check_Test_Passed(Student_C, \"철수\")\n",
        ""
      ]
    }
  ],
  "metadata": {
    "colab": {
      "provenance": []
    },
    "kernelspec": {
      "display_name": "Python 3",
      "name": "python3"
    },
    "language_info": {
      "codemirror_mode": {
        "name": "ipython",
        "version": 3
      },
      "file_extension": ".py",
      "mimetype": "text/x-python",
      "name": "python",
      "nbconvert_exporter": "python",
      "pygments_lexer": "ipython3",
      "version": "3.13.3"
    }
  },
  "nbformat": 4,
  "nbformat_minor": 0
}