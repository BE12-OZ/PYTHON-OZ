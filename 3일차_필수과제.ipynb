{
  "cells": [
    {
      "cell_type": "markdown",
      "metadata": {
        "id": "fD4Qab2qYgOm"
      },
      "source": [
        "안녕하세요. 수강생 여러분~! Chapter09 ~ 13 수업은 잘 들으셨나요?\n",
        "\n",
        "Chapter09 ~ 13의 수업 내용을 바탕으로 아래 문제를 풀어주시면 됩니다.\n",
        "\n",
        "\n",
        "<br>\n",
        "\n",
        "\n",
        "[**답변 입력 방법**]\n",
        "\n",
        "문제 아래에 있는 코드 입력창에 정답코드를 작성하신 후  __▷ 버튼을 클릭해 코드를 실행__ 해보세요<br>"
      ]
    },
    {
      "cell_type": "markdown",
      "metadata": {
        "id": "QlOEr4Hw0no3"
      },
      "source": [
        "---"
      ]
    },
    {
      "cell_type": "markdown",
      "metadata": {
        "id": "oMEaYY1J0no3"
      },
      "source": [
        "__[문제0]__\n",
        "\n",
        "\n",
        "오즈 코딩 스쿨 백엔드 8기 과정에 참여한 수강생 중 3명의 수강생이 자율적으로 스터디 그룹을 결성했습니다.\n",
        "\n",
        "스터디 그룹 내에는 한 주간 배운 내용으로 매주 쪽지 시험을 보는 룰이 있습니다. 점수는 채점자 마음입니다.\n",
        "\n",
        "쪽지 시험의 점수를 직접 입력받고, 점수의 합을 출력해주세요!\n",
        "\n",
        "\n",
        "<br>\n",
        "\n"
      ]
    },
    {
      "cell_type": "code",
      "execution_count": null,
      "metadata": {
        "id": "YxuC34qC0no4",
        "outputId": "41dd3d90-9bc9-41a4-fa2b-8ce21012b66f"
      },
      "outputs": [
        {
          "name": "stdout",
          "output_type": "stream",
          "text": [
            "총점은 233 점 입니다.\n",
            "평균 점수는 77.66666666666667 점 입니다.\n",
            "평균 점수는 77.67 점 입니다.\n"
          ]
        }
      ],
      "source": [
        "민수 = int(input(\"첫번째 수강생의 점수를 입력하세요: \"))\n",
        "철수 = int(input(\"두번째 수강생의 점수를 입력하세요: \"))\n",
        "영희 = int(input(\"세번째 수강생의 점수를 입력하세요: \"))\n",
        "# input으로 점수를 받고 int로 변환\n",
        "total_score = (민수 + 철수 + 영희)\n",
        "# 세 사람의 점수를 합산\n",
        "print(\"총점은\", total_score, \"점 입니다.\")\n",
        "# print로 총점을 출력 -> 출력 형식: \"총점은 \" + total_score + \" 점 입니다.\"\n",
        "\n",
        "# 응용 문제 1 세 사람의 전체 평균 점수\n",
        "average_score = total_score / 3\n",
        "print(\"평균 점수는\", average_score, \"점 입니다.\")\n",
        "# 응용 문제 2 소수점 둘째 자리까지 표현\n",
        "average_score = round(total_score / 3, 2)\n",
        "print(\"평균 점수는\", average_score, \"점 입니다.\")\n",
        "# Round 함수를 사용하여 소수점 둘째 자리까지 반올림"
      ]
    },
    {
      "cell_type": "markdown",
      "metadata": {
        "id": "swqdcIl8Yn-c"
      },
      "source": [
        "__[문제1]<br>__\n",
        "\n",
        "movie_rank 리스트에는 아래와 같이 네 개의 영화 제목이 바인딩되어 있다.\n",
        "\n",
        "\"비밀\"을 \"나폴레옹\"과 \"괴물\" 사이에 추가해주세요\n",
        "\n",
        "<br>\n",
        "\n",
        "```\n",
        "movie = ['서울의 봄', '나폴레옹', '괴물', '베트맨']\n",
        "```\n",
        "\n"
      ]
    },
    {
      "cell_type": "code",
      "execution_count": null,
      "metadata": {
        "id": "vjUhNFdBYo2n",
        "outputId": "53ba808e-4c4c-43f5-bfd8-1d7a0641b33e"
      },
      "outputs": [
        {
          "name": "stdout",
          "output_type": "stream",
          "text": [
            "영화 목록: ['서울의 봄', '나폴레옹', '비밀', '괴물', '베트맨']\n",
            "영화 목록: ['나폴레옹', '비밀', '괴물', '베트맨']\n",
            "영화 목록: ['비밀', '괴물', '베트맨']\n"
          ]
        }
      ],
      "source": [
        "movie = ['서울의 봄', '나폴레옹', '괴물', '베트맨']\n",
        "# 영화 목록을 리스트로 정의\n",
        "movie.insert(2, '비밀')\n",
        "# insert 함수를 사용하여 인덱스 2에 '비밀' 추가\n",
        "print(\"영화 목록:\", movie)\n",
        "\n",
        "# 응용 문제 1 영화 목록에서 서울의 봄을 삭제\n",
        "del movie[0]\n",
        "# del 함수를 사용하여 인덱스 0에 있는 서울의 봄 삭제\n",
        "print(\"영화 목록:\", movie)\n",
        "\n",
        "# 응용 문제 2 영화 목록에서 나폴레옹을 삭제\n",
        "movie.remove('나폴레옹')\n",
        "# remove 함수를 사용하여 나폴레옹 삭제\n",
        "# (이 문제 같은 경우 remove가 적용될지 모르고 출력해 본 경우로 구글링 결과 인덱스 0의 요소가 아닌 해당 값을 가진 요소를 삭제한 것으로 알게 됨)\n",
        "print(\"영화 목록:\", movie)"
      ]
    },
    {
      "cell_type": "markdown",
      "metadata": {
        "id": "nGIblI-O0no7"
      },
      "source": [
        "---"
      ]
    },
    {
      "cell_type": "markdown",
      "metadata": {
        "id": "KZBNuM5MYpZR"
      },
      "source": [
        "__[문제1-2]<br>__\n",
        "\n",
        "movie_rank 리스트에서 '베트맨'를 삭제해주세요\n",
        "\n",
        "<br>\n",
        "\n",
        "```\n",
        "movie = ['서울의 봄', '나폴레옹', '비밀', '괴물', '베트맨']\n",
        "```\n",
        "\n"
      ]
    },
    {
      "cell_type": "code",
      "execution_count": null,
      "metadata": {
        "id": "cPezrT7cYreh",
        "outputId": "10af167f-1553-4251-a8f7-4ad87075bd65"
      },
      "outputs": [
        {
          "name": "stdout",
          "output_type": "stream",
          "text": [
            "인기 영화 순위: ['1. 서울의 봄', '2. 나폴레옹', '3. 괴물']\n",
            "인기 영화 순위: ['2. 나폴레옹', '3. 괴물', '4. 베트맨']\n"
          ]
        }
      ],
      "source": [
        "movie_rank = ['1. 서울의 봄', '2. 나폴레옹', '3. 괴물', '4. 베트맨']\n",
        "movie_rank.remove('4. 베트맨')\n",
        "# remove 함수를 사용하여 나폴레옹 삭제\n",
        "# 인덱스 0의 요소가 아닌 해당 값을 가진 요소를 삭제한 것으로 해당 요소가 없을 경우 오류 발생)\n",
        "print(\"인기 영화 순위:\", movie_rank)\n",
        "\n",
        "# 응용 문제 2 영화 목록에서 나폴레옹을 삭제\n",
        "movie_rank = ['1. 서울의 봄', '2. 나폴레옹', '3. 괴물', '4. 베트맨']\n",
        "del movie_rank[0]\n",
        "# del 함수를 사용하여 인덱스 0에 있는 서울의 봄 삭제\n",
        "print(\"인기 영화 순위:\", movie_rank)"
      ]
    },
    {
      "cell_type": "markdown",
      "metadata": {
        "id": "i8EJYPY0YsAe"
      },
      "source": [
        "__[문제2]<br>__\n",
        "\n",
        "[언어1]과 [언어2] 리스트가 있을 때 언어1과 언어2의 원소를 모두 갖고 있는 [언어모음]이라는 list를 만들어주세요\n",
        "\n",
        "```lang1 = [\"C\", \"C++\", \"JAVA\"]```<br>\n",
        "```lang2 = [\"Python\", \"Go\", \"C#\"]```  \n",
        "\n",
        "<br>\n",
        "실행 예)\n",
        "언어들\n",
        "['C', 'C++', 'JAVA', 'Python', 'Go', 'C#']"
      ]
    },
    {
      "cell_type": "code",
      "execution_count": null,
      "metadata": {
        "id": "KOo1_pOL0no8",
        "outputId": "befa5c5c-2ff9-4d0f-c1d3-053c245493c5"
      },
      "outputs": [
        {
          "name": "stdout",
          "output_type": "stream",
          "text": [
            "프로그래밍 언어 목록: ['Python', 'Java', 'C++', 'JavaScript', 'Ruby', 'Swift', 'Go', 'Kotlin']\n",
            "프로그래밍 언어 목록: ['Python', 'Java', 'C++', 'JavaScript', 'Ruby', 'Swift', 'Go', 'Kotlin', 'A', 'B', 'C']\n"
          ]
        }
      ],
      "source": [
        "lang1 = ['Python', 'Java', 'C++', 'JavaScript']\n",
        "lang2 = ['Ruby', 'Swift', 'Go', 'Kotlin']\n",
        "programming_languages = lang1 + lang2\n",
        "# 두 리스트를 병합 생성\n",
        "print(\"프로그래밍 언어 목록:\", programming_languages)\n",
        "\n",
        "# 응용 문제 1 extend를 사용하여 추가해보자.\n",
        "extend = ['A', 'B', 'C']\n",
        "programming_languages.extend(extend)\n",
        "# extend 명령어는 모델링 프로그램의 기능이 생각나서 사용해봤는데 연장하다라는 비슷한 의미인가보네요.\n",
        "print(\"프로그래밍 언어 목록:\", programming_languages)"
      ]
    },
    {
      "cell_type": "markdown",
      "metadata": {
        "id": "uXkFJqja0no8"
      },
      "source": [
        "---"
      ]
    },
    {
      "cell_type": "markdown",
      "metadata": {
        "id": "5VFysaYRwT69"
      },
      "source": [
        "__[문제3]<br>__\n",
        "\n",
        "다음 리스트에서 최댓값과 최솟값, 그리고 평균을 출력해주세요.\n",
        "<br>\n",
        "\n",
        "```\n",
        "nums = [1, 2, 3, 4, 5, 6, 7, 9, 10]\n",
        "```\n",
        "\n"
      ]
    },
    {
      "cell_type": "code",
      "execution_count": null,
      "metadata": {
        "id": "3u_PAUDF0no9",
        "outputId": "921e009a-0ec3-4f25-bd53-b3573ad81586"
      },
      "outputs": [
        {
          "name": "stdout",
          "output_type": "stream",
          "text": [
            "최댓값은:  10 입니다.\n",
            "최솟값은:  1 입니다.\n",
            "합계는:  55 입니다.\n",
            "평균은:  5.5 입니다.\n"
          ]
        }
      ],
      "source": [
        "nums = [1, 2, 3, 4, 5, 6, 7, 8, 9, 10]\n",
        "\n",
        "입력된_데이터의_최댓값 = max(nums)\n",
        "print(\"최댓값은: \", 입력된_데이터의_최댓값, \"입니다.\")\n",
        "# max 함수를 사용하여 최댓값을 구한다.\n",
        "입력된_데이터의_최솟값 = min(nums)\n",
        "print(\"최솟값은: \", 입력된_데이터의_최솟값, \"입니다.\")\n",
        "# min 함수를 사용하여 최솟값을 구한다.\n",
        "입력된_데이터의_합계 = sum(nums)\n",
        "print(\"합계는: \", 입력된_데이터의_합계, \"입니다.\")\n",
        "# sum 함수를 사용하여 합계를 구한다.\n",
        "입력된_데이터의_평균 = sum(nums) / len(nums)\n",
        "print(\"평균은: \", 입력된_데이터의_평균, \"입니다.\")\n",
        "# len 함수를 사용하여 데이터의 길이를 구한다.\n",
        "# len의 경우 average = sum / len 과 같은 의미인 것 같고, 뭔가 데이터의 갯수를 세어주는 느낌인 것 같네요.\n"
      ]
    },
    {
      "cell_type": "markdown",
      "metadata": {
        "id": "nBpDhb0C0no9"
      },
      "source": [
        "---"
      ]
    },
    {
      "cell_type": "markdown",
      "metadata": {
        "id": "5_IA50IQE2AM"
      },
      "source": [
        "__[문제4]__\n",
        "\n",
        "다음 리스트에 저장된 데이터의 개수를 화면에 구해주세요\n",
        "\n",
        "```cook = [\"피자\", \"김밥\", \"만두\", \"양념치킨\", \"족발\", \"피자\", \"김치만두\", \"쫄면\"]```"
      ]
    },
    {
      "cell_type": "code",
      "execution_count": null,
      "metadata": {
        "id": "iRDvWnF8wTXa",
        "outputId": "be46e89f-3848-484e-aea8-191089cd7103"
      },
      "outputs": [
        {
          "name": "stdout",
          "output_type": "stream",
          "text": [
            "요리의 갯수는:  10 개 입니다.\n"
          ]
        }
      ],
      "source": [
        "K_Food = ['피자', '김밥', '만두', '양념치킨', '족발', '햄버거', '떡볶이', '순대국밥', '라면', '초밥']\n",
        "len(K_Food)\n",
        "print(\"요리의 갯수는: \", len(K_Food), \"개 입니다.\")\n",
        "# 위 문제에서 사용했던 len 명령어로 요리의 갯수를 출력해봤습니다."
      ]
    },
    {
      "cell_type": "markdown",
      "metadata": {
        "id": "ztkQn21t0no9"
      },
      "source": [
        "---"
      ]
    },
    {
      "cell_type": "markdown",
      "metadata": {
        "id": "zZpnWcvt0no9"
      },
      "source": [
        "---"
      ]
    },
    {
      "cell_type": "markdown",
      "metadata": {
        "id": "Cp7IpuJBFcq2"
      },
      "source": [
        "__[문제5]__\n",
        "\n",
        "price 변수에는 날짜와 종가 정보가 저장돼 있습니다.\n",
        "날짜 정보를 제외하고 가격 정보만을 출력해주세요\n",
        "\n",
        "```price = ['20180728', 100, 130, 140, 150, 160, 170]```\n",
        "\n",
        "<br>\n",
        "출력 예) [100, 130, 140, 150, 160, 170]"
      ]
    },
    {
      "cell_type": "code",
      "execution_count": null,
      "metadata": {
        "id": "BpMb0bHPFdKF",
        "outputId": "2e5e614d-ff2b-4378-def5-7af9419c1125"
      },
      "outputs": [
        {
          "name": "stdout",
          "output_type": "stream",
          "text": [
            "날짜를 제외한 가격 목록: ['20180728', 120, 130, 140, 150, 160, 170, 'ABC']\n",
            "0,8번째 인덱스의 값을 출력: 20180728 ABC\n"
          ]
        }
      ],
      "source": [
        "가격_목록 = ['20180728', 100, 130, 140, 150, 160, 170, 'ABC']\n",
        "가격_목록[1:7] = [120, 130, 140, 150, 160, 170]\n",
        "print(\"날짜를 제외한 가격 목록:\", 가격_목록)\n",
        "# 0,1,2,3,4,5,6 인덱스의 값 중 1부터 6까지 필요하므로 1:6\n",
        "\n",
        "# 응용 문제 1 가격 목록에서 0, 8번째 인덱스의 값을 출력\n",
        "# 인덱스 0과 8의 값을 출력하기 위해 각 각의 인덱스 번호를 사용해서 출력\n",
        "가격_목록 = ['20180728', 100, 130, 140, 150, 160, 170, 'ABC']\n",
        "print(\"0,8번째 인덱스의 값을 출력:\", 가격_목록[0], 가격_목록[7])"
      ]
    },
    {
      "cell_type": "markdown",
      "metadata": {
        "id": "i9mI6PsC0no9"
      },
      "source": [
        "---"
      ]
    },
    {
      "cell_type": "markdown",
      "metadata": {
        "id": "1DwclZivGe72"
      },
      "source": [
        "__[문제6]__\n",
        "\n",
        "<br>\n",
        "다음 딕셔너리를 사용하여 메로나 가격을 출력해주세요\n",
        "\n",
        "```ice = {'메로나': 1000,```<br>\n",
        "&emsp;&emsp;&emsp;&emsp;```'폴로포': 1200,```<br>\n",
        "&emsp;&emsp;&emsp;&emsp;```'빵빠레': 1800,```<br>\n",
        "&emsp;&emsp;&emsp;&emsp;```'죠스바': 1200,```<br>\n",
        "&emsp;&emsp;&emsp;&emsp;```'월드콘': 1500}```<br>\n",
        "\n",
        "<br>\n",
        "출력 예) 메로나 가격: 1000"
      ]
    },
    {
      "cell_type": "code",
      "execution_count": null,
      "metadata": {
        "id": "jADTPFzOHcKk",
        "outputId": "dc8b5f63-21e1-482e-84e5-911ff733e292"
      },
      "outputs": [
        {
          "name": "stdout",
          "output_type": "stream",
          "text": [
            "판매중인 아이스크림 중 월드콘의 가격은: 1400 원 입니다.\n"
          ]
        }
      ],
      "source": [
        "판매중인_아이스크림_목록 = {'메로나': 1000, '죠스바':900, '바밤바': 1000, '월드콘': 1400, '빵또아': 1500}\n",
        "# 아이스크림 목록 리스트 작성 -> {'A': 1234, 'B': 5678} 의 형식\n",
        "print(\"판매중인 아이스크림 중 월드콘의 가격은:\", 판매중인_아이스크림_목록['월드콘'], \"원 입니다.\")\n",
        "# 리스트 중 필요한 'A'를 {\"블라블라\", ['A'], \"블라블라\"}와 같은 형태로 력력"
      ]
    },
    {
      "cell_type": "markdown",
      "metadata": {
        "id": "ckQhJGIY0no-"
      },
      "source": [
        "---"
      ]
    },
    {
      "cell_type": "markdown",
      "metadata": {
        "id": "mBs2AaqcJAXN"
      },
      "source": [
        "__[문제6-1]__\n",
        "\n",
        "다음 딕셔너리에서 메로나의 가격을 1300으로 수정해주세요\n",
        "\n",
        "```ice = {'메로나': 1000,```<br>\n",
        "&emsp;&emsp;&emsp;&emsp;```'폴로포': 1200,```<br>\n",
        "&emsp;&emsp;&emsp;&emsp;```'빵빠레': 1800,```<br>\n",
        "&emsp;&emsp;&emsp;&emsp;```'죠스바': 1200,```<br>\n",
        "&emsp;&emsp;&emsp;&emsp;```'월드콘': 1500}```<br>"
      ]
    },
    {
      "cell_type": "code",
      "execution_count": null,
      "metadata": {
        "id": "C2RyUgoTJKsF",
        "outputId": "0b54f809-c7a9-4201-c047-8f96583b8d9a"
      },
      "outputs": [
        {
          "name": "stdout",
          "output_type": "stream",
          "text": [
            "{'메로나': 1000, '죠스바': 900, '바밤바': 9999, '월드콘': 1400, '빵또아': 1500}\n"
          ]
        }
      ],
      "source": [
        "판매중인_아이스크림_목록 = {'메로나': 1000, '죠스바':900, '바밤바': 1000, '월드콘': 1400, '빵또아': 1500}\n",
        "판매중인_아이스크림_목록['바밤바'] = 9999\n",
        "print(판매중인_아이스크림_목록)"
      ]
    },
    {
      "cell_type": "markdown",
      "metadata": {
        "id": "BSxQ_v7o0no-"
      },
      "source": [
        "---"
      ]
    },
    {
      "cell_type": "markdown",
      "metadata": {
        "id": "_ZdcVEtTJKS1"
      },
      "source": [
        "__[문제7]__\n",
        "\n",
        "아래 순서대로 주어진 수강생 이름과 등급을 하나의 딕셔너리로 만드는 코드를 작성해주세요\n",
        "\n",
        "\n",
        "names : 나이썬, 김자바, 김씨, 박씨샵  \n",
        "grades :   B       B      A      C\n"
      ]
    },
    {
      "cell_type": "code",
      "execution_count": null,
      "metadata": {
        "id": "7RyqlYwpJOp7",
        "outputId": "9b4871b1-debc-4500-a761-b68c4086e5b6"
      },
      "outputs": [
        {
          "name": "stdout",
          "output_type": "stream",
          "text": [
            "오즈대 컴퓨터 공학과:  {'이철수': 2021110186, '김하늬': 2021110186, '김지은': 2021110186}\n"
          ]
        }
      ],
      "source": [
        "# 이름 : 이철수, 김하늬, 김지은, 아이유\n",
        "# 학번 : 2021110186, 2021110186, 2021110186, 2021110186\n",
        "\n",
        "학생_명부 = dict(zip(['이철수', '김하늬', '김지은'], [2021110186, 2021110186, 2021110186, 2021110186]))\n",
        "# 어떠한 전자사전을 만들기위해 안에 들어갈 내용들을 zip 명령어로 압축하고 사전으로 넣는다.\n",
        "print(\"오즈대 컴퓨터 공학과: \", 학생_명부)"
      ]
    },
    {
      "cell_type": "markdown",
      "metadata": {
        "id": "ZTHX5PcB0no-"
      },
      "source": [
        "---"
      ]
    },
    {
      "cell_type": "markdown",
      "metadata": {
        "id": "yzi6f2-YKsk4"
      },
      "source": [
        "__[문제8]__\n",
        "\n",
        "아래 ice 딕셔너리에 데이터를 추가 후 출력해주세요\n",
        "\n",
        "ice = {\"메로나\": [300, 20],  \n",
        "              \"비비빅\": [400, 3],  \n",
        "              \"죠스바\": [250, 100]}  \n",
        "\n",
        "\n",
        "추가해야하는 데이터) 이름 : 보석바, 가격:650, 재고:10"
      ]
    },
    {
      "cell_type": "code",
      "execution_count": null,
      "metadata": {
        "id": "PFDQY_6Y0no_",
        "outputId": "26018eac-717c-4e20-fc26-a294440a22b2"
      },
      "outputs": [
        {
          "name": "stdout",
          "output_type": "stream",
          "text": [
            "보석바 추가한 납품거래 내역서:  {'메로나': [1000, 30], '죠스바': [900, 10], '바밤바': [1000, 13], '월드콘': [1400, 17], '빵또아': [1500, 11], '보석바': [1200, 7]}\n"
          ]
        }
      ],
      "source": [
        "판매중인_아이스크림_목록 = {'메로나': [1000,30], '죠스바': [900,10], '바밤바': [1000,13], '월드콘': [1400,17], '빵또아': [1500,11]}\n",
        "판매중인_아이스크림_목록['보석바']=[1200,7]\n",
        "print(\"보석바 추가한 납품거래 내역서: \" , 판매중인_아이스크림_목록)"
      ]
    },
    {
      "cell_type": "markdown",
      "metadata": {
        "id": "SUMJPGSL0no_"
      },
      "source": [
        "---"
      ]
    },
    {
      "cell_type": "markdown",
      "metadata": {
        "id": "RQJC80PBLWGt"
      },
      "source": [
        "__[문제9]__\n",
        "\n",
        "아래 딕셔너리에서 key만 list 형태로 출력해주세요\n",
        "\n",
        "ice = {'메로나': 1000, '폴로포': 1200, '빵빠레': 1800, '죠스바': 1200, '월드콘': 1500}\n"
      ]
    },
    {
      "cell_type": "code",
      "execution_count": null,
      "metadata": {
        "id": "m5m-a09iLVbO",
        "outputId": "0c410d90-2d9f-4b65-dff3-bdb4d3b1094e"
      },
      "outputs": [
        {
          "name": "stdout",
          "output_type": "stream",
          "text": [
            "['메로나', '죠스바', '바밤바', '월드콘', '빵또아']\n",
            "dict_values([1000, 900, 1000, 1400, 1500])\n"
          ]
        }
      ],
      "source": [
        "판매중인_아이스크림_목록 = {'메로나': 1000, '죠스바': 900, '바밤바': 1000, '월드콘': 1400, '빵또아': 1500}\n",
        "판매중인_아이스크림_목록 = list(판매중인_아이스크림_목록.keys())\n",
        "print(판매중인_아이스크림_목록)\n",
        "판매중인_아이스크림_목록 = {'메로나': 1000, '죠스바': 900, '바밤바': 1000, '월드콘': 1400, '빵또아': 1500}\n",
        "print(판매중인_아이스크림_목록.values())\n",
        "# 딕셔너리의 key값만 출력해서 리스트화하는 문제인데 구성이나 출력과 관련하여 이해가 안되어 추가로 복습 및 해결 필요."
      ]
    }
  ],
  "metadata": {
    "colab": {
      "provenance": []
    },
    "kernelspec": {
      "display_name": "Python 3",
      "name": "python3"
    },
    "language_info": {
      "codemirror_mode": {
        "name": "ipython",
        "version": 3
      },
      "file_extension": ".py",
      "mimetype": "text/x-python",
      "name": "python",
      "nbconvert_exporter": "python",
      "pygments_lexer": "ipython3",
      "version": "3.13.3"
    }
  },
  "nbformat": 4,
  "nbformat_minor": 0
}